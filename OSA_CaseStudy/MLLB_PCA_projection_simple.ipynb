{
  "nbformat": 4,
  "nbformat_minor": 0,
  "metadata": {
    "colab": {
      "name": "MLLB_PCA_projection_simple.ipynb",
      "provenance": [],
      "collapsed_sections": []
    },
    "kernelspec": {
      "name": "python3",
      "display_name": "Python 3"
    },
    "accelerator": "GPU"
  },
  "cells": [
    {
      "cell_type": "markdown",
      "metadata": {
        "id": "bxUqv_bSWs2m"
      },
      "source": [
        "# Machine Learning LAB\n",
        "## *ETSIT - UPM*\n",
        "---\n",
        "\n",
        "## <font color=FF4455>Concept: Principal Component Analysis (PCA) as a projection</font>\n",
        "\n"
      ]
    },
    {
      "cell_type": "markdown",
      "metadata": {
        "id": "afSgDW3-b-Z2"
      },
      "source": [
        "* # In the example:\n",
        "> * ## $x1$ and $x2$ are 2D input features (NOTE zero mean)\n",
        "> * ## $w$ is the weigth to be trained: using backpropagation and Stochastic Gradient Descent (SGD)\n",
        "\n",
        "\n",
        "\n",
        "\n"
      ]
    },
    {
      "cell_type": "code",
      "metadata": {
        "colab": {
          "base_uri": "https://localhost:8080/",
          "height": 314
        },
        "id": "GpDnXJV6yxCR",
        "outputId": "2f635ebc-5c4f-47cd-ec00-e9cf525f8f5a"
      },
      "source": [
        "import matplotlib.pyplot as plt\n",
        "%matplotlib inline\n",
        "import numpy as np\n",
        "\n",
        "# SOME artificial data\n",
        "x1 = np.array([-2.8, -1.5, 1.5, 3], dtype = np.float32)\n",
        "x2 = np.array([-1.3, -0.5, 0.5, 1], dtype = np.float32)\n",
        "\n",
        "\n",
        "plt.scatter(x1,x2)\n",
        "plt.xlabel('x1')\n",
        "plt.ylabel('x2')\n",
        "plt.title('Artificial Data')"
      ],
      "execution_count": 22,
      "outputs": [
        {
          "output_type": "execute_result",
          "data": {
            "text/plain": [
              "Text(0.5, 1.0, 'Artificial Data')"
            ]
          },
          "metadata": {},
          "execution_count": 22
        },
        {
          "output_type": "display_data",
          "data": {
            "image/png": "[encoded data removed]",
            "text/plain": [
              "<Figure size 432x288 with 1 Axes>"
            ]
          },
          "metadata": {
            "needs_background": "light"
          }
        }
      ]
    },
    {
      "cell_type": "code",
      "metadata": {
        "colab": {
          "base_uri": "https://localhost:8080/"
        },
        "id": "i94n_M0WYW_b",
        "outputId": "6e3ae254-60a3-4a98-9f79-2905caa000f1"
      },
      "source": [
        "print('Mean x1 = ',np.mean(x1),' Mean x2 = ', np.mean(x2))"
      ],
      "execution_count": 21,
      "outputs": [
        {
          "output_type": "stream",
          "name": "stdout",
          "text": [
            "Mean x1 =  0.049999952  Mean x2 =  -0.07499999\n"
          ]
        }
      ]
    },
    {
      "cell_type": "markdown",
      "metadata": {
        "id": "l8iZeaX6Wh2l"
      },
      "source": [
        "---\n",
        "---\n",
        "## We plot a line of aproximatelly maximum variance\n",
        "> <font color=lightgreen>maximum variance </font>"
      ]
    },
    {
      "cell_type": "code",
      "metadata": {
        "colab": {
          "base_uri": "https://localhost:8080/",
          "height": 298
        },
        "id": "mSEHdg97bEB-",
        "outputId": "d2aedcda-b21f-458b-d464-aa825f2eed74"
      },
      "source": [
        "x1_line = np.linspace(-3,3,10)\n",
        "x2_line = x1_line *0.5\n",
        "plt.scatter(x1,x2)\n",
        "plt.scatter(x1_line,x2_line)\n",
        "plt.grid()\n",
        "plt.xlabel('x1')\n",
        "plt.ylabel('x2')"
      ],
      "execution_count": 119,
      "outputs": [
        {
          "output_type": "execute_result",
          "data": {
            "text/plain": [
              "Text(0, 0.5, 'x2')"
            ]
          },
          "metadata": {},
          "execution_count": 119
        },
        {
          "output_type": "display_data",
          "data": {
            "image/png": "[encoded data removed]",
            "text/plain": [
              "<Figure size 432x288 with 1 Axes>"
            ]
          },
          "metadata": {
            "needs_background": "light"
          }
        }
      ]
    },
    {
      "cell_type": "code",
      "metadata": {
        "id": "PoDe9UKLWcHQ"
      },
      "source": [
        "X = np.array([x1, x2])\n",
        "\n",
        "PCA_1 = np.array([1, .5])/np.linalg.norm(np.array([1, .5]))"
      ],
      "execution_count": 99,
      "outputs": []
    },
    {
      "cell_type": "code",
      "metadata": {
        "colab": {
          "base_uri": "https://localhost:8080/"
        },
        "id": "xzWbhkdMht-u",
        "outputId": "575c06fb-fa9f-42c6-9c80-ec4e7ec2f363"
      },
      "source": [
        "np.linalg.norm(PCA_1)"
      ],
      "execution_count": 100,
      "outputs": [
        {
          "output_type": "execute_result",
          "data": {
            "text/plain": [
              "0.9999999999999999"
            ]
          },
          "metadata": {},
          "execution_count": 100
        }
      ]
    },
    {
      "cell_type": "code",
      "metadata": {
        "id": "Mny83HfjciIQ"
      },
      "source": [
        "Z1=np.dot(X.T,PCA_1)"
      ],
      "execution_count": 103,
      "outputs": []
    },
    {
      "cell_type": "code",
      "metadata": {
        "colab": {
          "base_uri": "https://localhost:8080/"
        },
        "id": "4HxFa7_icvtO",
        "outputId": "a678f6d3-4bd4-4946-e125-23dcafc77912"
      },
      "source": [
        "Z1"
      ],
      "execution_count": 104,
      "outputs": [
        {
          "output_type": "execute_result",
          "data": {
            "text/plain": [
              "array([-3.08577374, -1.56524758,  1.56524758,  3.13049517])"
            ]
          },
          "metadata": {},
          "execution_count": 104
        }
      ]
    },
    {
      "cell_type": "code",
      "metadata": {
        "id": "MexD_bFei58l"
      },
      "source": [
        "PCA_2 = np.array([-0.5, 1])/np.linalg.norm(np.array([-0.5, 1]))"
      ],
      "execution_count": 112,
      "outputs": []
    },
    {
      "cell_type": "code",
      "metadata": {
        "colab": {
          "base_uri": "https://localhost:8080/"
        },
        "id": "aBKbWzXdjbyW",
        "outputId": "fd1504e5-7d85-4313-8399-40c5a1e6aaef"
      },
      "source": [
        "np.dot(PCA_1,PCA_2)"
      ],
      "execution_count": 113,
      "outputs": [
        {
          "output_type": "execute_result",
          "data": {
            "text/plain": [
              "1.2594923403361582e-17"
            ]
          },
          "metadata": {},
          "execution_count": 113
        }
      ]
    },
    {
      "cell_type": "code",
      "metadata": {
        "colab": {
          "base_uri": "https://localhost:8080/"
        },
        "id": "FHyZZaNIjMOW",
        "outputId": "4b046b9c-4578-43a5-da1a-7b0bcc36b3c2"
      },
      "source": [
        "np.linalg.norm(PCA_2)"
      ],
      "execution_count": 114,
      "outputs": [
        {
          "output_type": "execute_result",
          "data": {
            "text/plain": [
              "0.9999999999999999"
            ]
          },
          "metadata": {},
          "execution_count": 114
        }
      ]
    },
    {
      "cell_type": "code",
      "metadata": {
        "id": "siZ3dYkMjRp8"
      },
      "source": [
        "Z2=np.dot(X.T,PCA_2)"
      ],
      "execution_count": 115,
      "outputs": []
    },
    {
      "cell_type": "code",
      "metadata": {
        "colab": {
          "base_uri": "https://localhost:8080/"
        },
        "id": "nHeTXoHejUJr",
        "outputId": "0bef9da4-3b66-4537-9270-c0bd5e596002"
      },
      "source": [
        "Z2"
      ],
      "execution_count": 116,
      "outputs": [
        {
          "output_type": "execute_result",
          "data": {
            "text/plain": [
              "array([ 0.08944274,  0.2236068 , -0.2236068 , -0.4472136 ])"
            ]
          },
          "metadata": {},
          "execution_count": 116
        }
      ]
    },
    {
      "cell_type": "code",
      "metadata": {
        "colab": {
          "base_uri": "https://localhost:8080/",
          "height": 315
        },
        "id": "ayGGRUIgkOd1",
        "outputId": "532b11df-6bc5-4aa8-b142-fa18c66e540e"
      },
      "source": [
        "plt.scatter(Z1,Z2,c=\"green\")\n",
        "plt.grid()\n",
        "plt.xlabel('PC_1')\n",
        "plt.ylabel('PC_2')\n",
        "plt.title('PC1 and PC2 of Artificial Data')"
      ],
      "execution_count": 121,
      "outputs": [
        {
          "output_type": "execute_result",
          "data": {
            "text/plain": [
              "Text(0.5, 1.0, 'PC1 and PC2 of Artificial Data')"
            ]
          },
          "metadata": {},
          "execution_count": 121
        },
        {
          "output_type": "display_data",
          "data": {
            "image/png": "[encoded data removed]",
            "text/plain": [
              "<Figure size 432x288 with 1 Axes>"
            ]
          },
          "metadata": {
            "needs_background": "light"
          }
        }
      ]
    },
    {
      "cell_type": "code",
      "metadata": {
        "colab": {
          "base_uri": "https://localhost:8080/"
        },
        "id": "XZrDZOM7k3fV",
        "outputId": "6fa4c4fd-8c55-4947-aebc-9b8b9af25a1c"
      },
      "source": [
        "PCA_1"
      ],
      "execution_count": 122,
      "outputs": [
        {
          "output_type": "execute_result",
          "data": {
            "text/plain": [
              "array([0.89442719, 0.4472136 ])"
            ]
          },
          "metadata": {},
          "execution_count": 122
        }
      ]
    },
    {
      "cell_type": "code",
      "metadata": {
        "colab": {
          "base_uri": "https://localhost:8080/"
        },
        "id": "mZteMmNUk5Rm",
        "outputId": "6ab8ca97-ead6-4235-bb4b-10ef007d80cf"
      },
      "source": [
        "PCA_2"
      ],
      "execution_count": 123,
      "outputs": [
        {
          "output_type": "execute_result",
          "data": {
            "text/plain": [
              "array([-0.4472136 ,  0.89442719])"
            ]
          },
          "metadata": {},
          "execution_count": 123
        }
      ]
    }
  ]
}