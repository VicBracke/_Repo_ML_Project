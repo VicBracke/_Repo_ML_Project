{
 "cells": [
  {
   "cell_type": "code",
   "execution_count": 15,
   "metadata": {},
   "outputs": [],
   "source": [
    "import pandas as pd\n",
    "\n",
    "# Read the Excel file\n",
    "df = pd.read_excel('DATA/OSA_DB_UPM.xlsx')\n",
    "\n",
    "# Filter rows where Gender is 'hombre'\n",
    "df_male = df[df['Gender'] == 'hombre'].copy()\n",
    "\n",
    "# Calculate BMI and add it as a new column\n",
    "df_male.loc[:, 'BMI'] = df_male['Weight'] / ((df_male['Height'] / 100) ** 2)\n",
    "\n",
    "# Add OSA category based on IAH values\n",
    "df_male.loc[:, 'OSA'] = df_male['IAH'].apply(lambda x: 'Healthy' if x <= 10 else ('Severe' if x >= 30 else None))\n",
    "\n",
    "# Remove rows with IAH values larger than 10 and less than 30\n",
    "df_male = df_male.dropna(subset=['OSA'])\n",
    "\n",
    "# Save the resulting DataFrame to an Excel file\n",
    "df_male.to_excel('DATA/Copilot_OSA_extreme_male.xlsx', index=False)"
   ]
  }
 ],
 "metadata": {
  "kernelspec": {
   "display_name": "base",
   "language": "python",
   "name": "python3"
  },
  "language_info": {
   "codemirror_mode": {
    "name": "ipython",
    "version": 3
   },
   "file_extension": ".py",
   "mimetype": "text/x-python",
   "name": "python",
   "nbconvert_exporter": "python",
   "pygments_lexer": "ipython3",
   "version": "3.11.0"
  }
 },
 "nbformat": 4,
 "nbformat_minor": 2
}
