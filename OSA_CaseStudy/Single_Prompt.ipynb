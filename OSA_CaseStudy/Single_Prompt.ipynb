{
 "cells": [
  {
   "cell_type": "markdown",
   "metadata": {},
   "source": [
    "# Script to prepare the data  "
   ]
  },
  {
   "cell_type": "code",
   "execution_count": 1,
   "metadata": {},
   "outputs": [
    {
     "name": "stdout",
     "output_type": "stream",
     "text": [
      "Columns after renaming: Index(['Patient', 'Gender', 'Age', 'Height', 'Weight', 'IAH', 'Cervical'], dtype='object')\n",
      "NaN values in Weight column: 0\n",
      "Shape after dropping NaN values: (637, 7)\n",
      "Shape after removing '-1' values: (637, 7)\n",
      "DataFrame saved to DATA/Copilot_OSA_DB_UPM2.xlsx\n"
     ]
    }
   ],
   "source": [
    "import pandas as pd\n",
    "\n",
    "# Read the Excel file\n",
    "file_path = 'DATA/Info_BDApnea_QuironMalaga.xlsx'\n",
    "df = pd.read_excel(file_path)\n",
    "\n",
    "# Select relevant columns\n",
    "df = df[['Patient', 'Gender', 'Edad', 'Talla', 'Peso', 'IAH', 'PerCervical']]\n",
    "\n",
    "# Rename columns\n",
    "df.rename(columns={\n",
    "    'Edad': 'Age',\n",
    "    'Talla': 'Height',\n",
    "    'Peso': 'Weight',\n",
    "    'PerCervical': 'Cervical'\n",
    "}, inplace=True)\n",
    "\n",
    "# Convert Weight column to float\n",
    "df['Weight'] = pd.to_numeric(df['Weight'], errors='coerce')\n",
    "\n",
    "# Remove rows with non-numerical values or NaN\n",
    "df.dropna(inplace=True)\n",
    "\n",
    "# Remove rows containing '-1' value\n",
    "df = df[(df != -1).all(axis=1)]\n",
    "\n",
    "# Renaming columns\n",
    "df.rename(columns={\n",
    "    'Edad': 'Age',\n",
    "    'Talla': 'Height',\n",
    "    'Peso': 'Weight',\n",
    "    'PerCervical': 'Cervical'\n",
    "}, inplace=True)\n",
    "\n",
    "# Check if columns exist after renaming\n",
    "print(\"Columns after renaming:\", df.columns)\n",
    "\n",
    "# Convert Weight column to float\n",
    "df['Weight'] = pd.to_numeric(df['Weight'], errors='coerce')\n",
    "\n",
    "# Check for NaN values in Weight column\n",
    "print(\"NaN values in Weight column:\", df['Weight'].isna().sum())\n",
    "\n",
    "# Remove rows with non-numerical values or NaN\n",
    "df.dropna(inplace=True)\n",
    "\n",
    "# Check DataFrame shape after dropping NaN values\n",
    "print(\"Shape after dropping NaN values:\", df.shape)\n",
    "\n",
    "# Remove rows containing '-1' value\n",
    "df = df[(df != -1).all(axis=1)]\n",
    "\n",
    "# Check DataFrame shape after removing '-1' values\n",
    "print(\"Shape after removing '-1' values:\", df.shape)\n",
    "\n",
    "# Save the resulting data frame to a new Excel file\n",
    "output_file_path = 'DATA/Copilot_OSA_DB_UPM2.xlsx'\n",
    "\n",
    "# Ensure the output directory exists\n",
    "import os\n",
    "if not os.path.exists('DATA'):\n",
    "    os.makedirs('DATA')\n",
    "\n",
    "df.to_excel(output_file_path, index=False)\n",
    "print(f\"DataFrame saved to {output_file_path}\")\n",
    "\n",
    "\n",
    "# Save the resulting data frame to a new Excel file\n",
    "output_file_path = 'DATA/Copilot_OSA_DB_UPM4.xlsx'\n",
    "# df.to_excel(output_file_path, index=False)"
   ]
  },
  {
   "cell_type": "markdown",
   "metadata": {},
   "source": []
  }
 ],
 "metadata": {
  "kernelspec": {
   "display_name": "ENV_MLLB",
   "language": "python",
   "name": "python3"
  },
  "language_info": {
   "codemirror_mode": {
    "name": "ipython",
    "version": 3
   },
   "file_extension": ".py",
   "mimetype": "text/x-python",
   "name": "python",
   "nbconvert_exporter": "python",
   "pygments_lexer": "ipython3",
   "version": "3.8.20"
  }
 },
 "nbformat": 4,
 "nbformat_minor": 2
}
