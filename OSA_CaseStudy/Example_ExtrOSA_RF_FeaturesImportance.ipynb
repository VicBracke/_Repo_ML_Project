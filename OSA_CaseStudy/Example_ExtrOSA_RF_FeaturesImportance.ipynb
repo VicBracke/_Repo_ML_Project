{
  "nbformat": 4,
  "nbformat_minor": 0,
  "metadata": {
    "colab": {
      "provenance": [],
      "collapsed_sections": []
    },
    "kernelspec": {
      "display_name": "Python 3",
      "language": "python",
      "name": "python3"
    },
    "language_info": {
      "codemirror_mode": {
        "name": "ipython",
        "version": 3
      },
      "file_extension": ".py",
      "mimetype": "text/x-python",
      "name": "python",
      "nbconvert_exporter": "python",
      "pygments_lexer": "ipython3",
      "version": "3.7.3"
    }
  },
  "cells": [
    {
      "cell_type": "markdown",
      "metadata": {
        "id": "dYUgHiLyKvRj"
      },
      "source": [
        "# <font color = gree>PRDL & MLLB courses ETSIT - UPM</font>\n",
        "> <font color=orange size= 4>Training a Random Forest for Extreme OSA Classification and exploring Features Importance</font>\n",
        "---\n",
        "\n",
        "\n",
        "* ### We will use the data in: OSA_extreme_male.xlsx</font>\n",
        "\n"
      ]
    },
    {
      "cell_type": "markdown",
      "metadata": {
        "id": "1ePRC9EYp5z2"
      },
      "source": [
        "\n",
        "---\n",
        "---\n",
        "Load : OSA_extreme_male.xlsx  from your Laptop\n",
        "\n"
      ]
    },
    {
      "cell_type": "code",
      "metadata": {
        "colab": {
          "base_uri": "https://localhost:8080/",
          "height": 109
        },
        "id": "m-7w9Nmzp4oS",
        "outputId": "d474c3ed-0d3b-4de5-bcc5-27a1661ba50f"
      },
      "source": [
        "from google.colab import files\n",
        "\n",
        "uploaded = files.upload()\n",
        "\n",
        "for fn in uploaded.keys():\n",
        "  print('User uploaded file \"{name}\" with length {length} bytes'.format(\n",
        "      name=fn, length=len(uploaded[fn])))"
      ],
      "execution_count": 1,
      "outputs": [
        {
          "output_type": "display_data",
          "data": {
            "text/plain": [
              "<IPython.core.display.HTML object>"
            ],
            "text/html": [
              "\n",
              "     <input type=\"file\" id=\"files-fa12565a-60b3-4a57-98a3-0319722527b8\" name=\"files[]\" multiple disabled\n",
              "        style=\"border:none\" />\n",
              "     <output id=\"result-fa12565a-60b3-4a57-98a3-0319722527b8\">\n",
              "      Upload widget is only available when the cell has been executed in the\n",
              "      current browser session. Please rerun this cell to enable.\n",
              "      </output>\n",
              "      <script>// Copyright 2017 Google LLC\n",
              "//\n",
              "// Licensed under the Apache License, Version 2.0 (the \"License\");\n",
              "// you may not use this file except in compliance with the License.\n",
              "// You may obtain a copy of the License at\n",
              "//\n",
              "//      http://www.apache.org/licenses/LICENSE-2.0\n",
              "//\n",
              "// Unless required by applicable law or agreed to in writing, software\n",
              "// distributed under the License is distributed on an \"AS IS\" BASIS,\n",
              "// WITHOUT WARRANTIES OR CONDITIONS OF ANY KIND, either express or implied.\n",
              "// See the License for the specific language governing permissions and\n",
              "// limitations under the License.\n",
              "\n",
              "/**\n",
              " * @fileoverview Helpers for google.colab Python module.\n",
              " */\n",
              "(function(scope) {\n",
              "function span(text, styleAttributes = {}) {\n",
              "  const element = document.createElement('span');\n",
              "  element.textContent = text;\n",
              "  for (const key of Object.keys(styleAttributes)) {\n",
              "    element.style[key] = styleAttributes[key];\n",
              "  }\n",
              "  return element;\n",
              "}\n",
              "\n",
              "// Max number of bytes which will be uploaded at a time.\n",
              "const MAX_PAYLOAD_SIZE = 100 * 1024;\n",
              "\n",
              "function _uploadFiles(inputId, outputId) {\n",
              "  const steps = uploadFilesStep(inputId, outputId);\n",
              "  const outputElement = document.getElementById(outputId);\n",
              "  // Cache steps on the outputElement to make it available for the next call\n",
              "  // to uploadFilesContinue from Python.\n",
              "  outputElement.steps = steps;\n",
              "\n",
              "  return _uploadFilesContinue(outputId);\n",
              "}\n",
              "\n",
              "// This is roughly an async generator (not supported in the browser yet),\n",
              "// where there are multiple asynchronous steps and the Python side is going\n",
              "// to poll for completion of each step.\n",
              "// This uses a Promise to block the python side on completion of each step,\n",
              "// then passes the result of the previous step as the input to the next step.\n",
              "function _uploadFilesContinue(outputId) {\n",
              "  const outputElement = document.getElementById(outputId);\n",
              "  const steps = outputElement.steps;\n",
              "\n",
              "  const next = steps.next(outputElement.lastPromiseValue);\n",
              "  return Promise.resolve(next.value.promise).then((value) => {\n",
              "    // Cache the last promise value to make it available to the next\n",
              "    // step of the generator.\n",
              "    outputElement.lastPromiseValue = value;\n",
              "    return next.value.response;\n",
              "  });\n",
              "}\n",
              "\n",
              "/**\n",
              " * Generator function which is called between each async step of the upload\n",
              " * process.\n",
              " * @param {string} inputId Element ID of the input file picker element.\n",
              " * @param {string} outputId Element ID of the output display.\n",
              " * @return {!Iterable<!Object>} Iterable of next steps.\n",
              " */\n",
              "function* uploadFilesStep(inputId, outputId) {\n",
              "  const inputElement = document.getElementById(inputId);\n",
              "  inputElement.disabled = false;\n",
              "\n",
              "  const outputElement = document.getElementById(outputId);\n",
              "  outputElement.innerHTML = '';\n",
              "\n",
              "  const pickedPromise = new Promise((resolve) => {\n",
              "    inputElement.addEventListener('change', (e) => {\n",
              "      resolve(e.target.files);\n",
              "    });\n",
              "  });\n",
              "\n",
              "  const cancel = document.createElement('button');\n",
              "  inputElement.parentElement.appendChild(cancel);\n",
              "  cancel.textContent = 'Cancel upload';\n",
              "  const cancelPromise = new Promise((resolve) => {\n",
              "    cancel.onclick = () => {\n",
              "      resolve(null);\n",
              "    };\n",
              "  });\n",
              "\n",
              "  // Wait for the user to pick the files.\n",
              "  const files = yield {\n",
              "    promise: Promise.race([pickedPromise, cancelPromise]),\n",
              "    response: {\n",
              "      action: 'starting',\n",
              "    }\n",
              "  };\n",
              "\n",
              "  cancel.remove();\n",
              "\n",
              "  // Disable the input element since further picks are not allowed.\n",
              "  inputElement.disabled = true;\n",
              "\n",
              "  if (!files) {\n",
              "    return {\n",
              "      response: {\n",
              "        action: 'complete',\n",
              "      }\n",
              "    };\n",
              "  }\n",
              "\n",
              "  for (const file of files) {\n",
              "    const li = document.createElement('li');\n",
              "    li.append(span(file.name, {fontWeight: 'bold'}));\n",
              "    li.append(span(\n",
              "        `(${file.type || 'n/a'}) - ${file.size} bytes, ` +\n",
              "        `last modified: ${\n",
              "            file.lastModifiedDate ? file.lastModifiedDate.toLocaleDateString() :\n",
              "                                    'n/a'} - `));\n",
              "    const percent = span('0% done');\n",
              "    li.appendChild(percent);\n",
              "\n",
              "    outputElement.appendChild(li);\n",
              "\n",
              "    const fileDataPromise = new Promise((resolve) => {\n",
              "      const reader = new FileReader();\n",
              "      reader.onload = (e) => {\n",
              "        resolve(e.target.result);\n",
              "      };\n",
              "      reader.readAsArrayBuffer(file);\n",
              "    });\n",
              "    // Wait for the data to be ready.\n",
              "    let fileData = yield {\n",
              "      promise: fileDataPromise,\n",
              "      response: {\n",
              "        action: 'continue',\n",
              "      }\n",
              "    };\n",
              "\n",
              "    // Use a chunked sending to avoid message size limits. See b/62115660.\n",
              "    let position = 0;\n",
              "    do {\n",
              "      const length = Math.min(fileData.byteLength - position, MAX_PAYLOAD_SIZE);\n",
              "      const chunk = new Uint8Array(fileData, position, length);\n",
              "      position += length;\n",
              "\n",
              "      const base64 = btoa(String.fromCharCode.apply(null, chunk));\n",
              "      yield {\n",
              "        response: {\n",
              "          action: 'append',\n",
              "          file: file.name,\n",
              "          data: base64,\n",
              "        },\n",
              "      };\n",
              "\n",
              "      let percentDone = fileData.byteLength === 0 ?\n",
              "          100 :\n",
              "          Math.round((position / fileData.byteLength) * 100);\n",
              "      percent.textContent = `${percentDone}% done`;\n",
              "\n",
              "    } while (position < fileData.byteLength);\n",
              "  }\n",
              "\n",
              "  // All done.\n",
              "  yield {\n",
              "    response: {\n",
              "      action: 'complete',\n",
              "    }\n",
              "  };\n",
              "}\n",
              "\n",
              "scope.google = scope.google || {};\n",
              "scope.google.colab = scope.google.colab || {};\n",
              "scope.google.colab._files = {\n",
              "  _uploadFiles,\n",
              "  _uploadFilesContinue,\n",
              "};\n",
              "})(self);\n",
              "</script> "
            ]
          },
          "metadata": {}
        },
        {
          "output_type": "stream",
          "name": "stdout",
          "text": [
            "Saving OSA_extreme_male.xlsx to OSA_extreme_male.xlsx\n",
            "User uploaded file \"OSA_extreme_male.xlsx\" with length 19282 bytes\n"
          ]
        }
      ]
    },
    {
      "cell_type": "code",
      "metadata": {
        "id": "JDxrCV1-13ZB",
        "colab": {
          "base_uri": "https://localhost:8080/"
        },
        "outputId": "728a066c-82c2-44d6-b21e-f113a366ce5c"
      },
      "source": [
        "ls"
      ],
      "execution_count": 2,
      "outputs": [
        {
          "output_type": "stream",
          "name": "stdout",
          "text": [
            "OSA_extreme_male.xlsx  \u001b[0m\u001b[01;34msample_data\u001b[0m/\n"
          ]
        }
      ]
    },
    {
      "cell_type": "markdown",
      "metadata": {
        "id": "s4d_ME8Pei7n"
      },
      "source": [
        "---\n",
        "\n",
        "### Read the *OSA_extreme_male.xlsx* file"
      ]
    },
    {
      "cell_type": "code",
      "metadata": {
        "id": "TdKcLJK1CxuT"
      },
      "source": [
        "# Import pandas\n",
        "import pandas as pd\n",
        "\n",
        "# Read OSA_DB_UPM.xlsx\n",
        "df_OSA_male_extreme = pd.read_excel(\"OSA_extreme_male.xlsx\")\n"
      ],
      "execution_count": 3,
      "outputs": []
    },
    {
      "cell_type": "code",
      "metadata": {
        "colab": {
          "base_uri": "https://localhost:8080/",
          "height": 363
        },
        "id": "C_0A_YSww9rb",
        "outputId": "3afbebe0-a238-43f7-d670-162a5f8890f7"
      },
      "source": [
        "df_OSA_male_extreme.head(10)"
      ],
      "execution_count": 4,
      "outputs": [
        {
          "output_type": "execute_result",
          "data": {
            "text/plain": [
              "  Patient  Gender   IAH  Weight  Height  Age  Cervical      OSA        BMI\n",
              "0   P0005  hombre   9.0      80     173   32        40  Healthy  26.729927\n",
              "1   P0006  hombre   2.0     109     190   32        42  Healthy  30.193906\n",
              "2   P0007  hombre  34.0      86     169   39        42   Severe  30.110991\n",
              "3   P0008  hombre  60.0     145     172   47        44   Severe  49.012980\n",
              "4   P0013  hombre   3.7      90     180   36        40  Healthy  27.777778\n",
              "5   P0020  hombre   4.3      89     171   44        45  Healthy  30.436716\n",
              "6   P0022  hombre  56.0     113     177   33        46   Severe  36.068818\n",
              "7   P0024  hombre  53.6     107     170   48        46   Severe  37.024221\n",
              "8   P0025  hombre   2.1      70     174   53        38  Healthy  23.120624\n",
              "9   P0027  hombre  47.0     100     180   62        48   Severe  30.864198"
            ],
            "text/html": [
              "\n",
              "  <div id=\"df-b712c68d-698a-4dd1-b749-94d1523fd0fe\">\n",
              "    <div class=\"colab-df-container\">\n",
              "      <div>\n",
              "<style scoped>\n",
              "    .dataframe tbody tr th:only-of-type {\n",
              "        vertical-align: middle;\n",
              "    }\n",
              "\n",
              "    .dataframe tbody tr th {\n",
              "        vertical-align: top;\n",
              "    }\n",
              "\n",
              "    .dataframe thead th {\n",
              "        text-align: right;\n",
              "    }\n",
              "</style>\n",
              "<table border=\"1\" class=\"dataframe\">\n",
              "  <thead>\n",
              "    <tr style=\"text-align: right;\">\n",
              "      <th></th>\n",
              "      <th>Patient</th>\n",
              "      <th>Gender</th>\n",
              "      <th>IAH</th>\n",
              "      <th>Weight</th>\n",
              "      <th>Height</th>\n",
              "      <th>Age</th>\n",
              "      <th>Cervical</th>\n",
              "      <th>OSA</th>\n",
              "      <th>BMI</th>\n",
              "    </tr>\n",
              "  </thead>\n",
              "  <tbody>\n",
              "    <tr>\n",
              "      <th>0</th>\n",
              "      <td>P0005</td>\n",
              "      <td>hombre</td>\n",
              "      <td>9.0</td>\n",
              "      <td>80</td>\n",
              "      <td>173</td>\n",
              "      <td>32</td>\n",
              "      <td>40</td>\n",
              "      <td>Healthy</td>\n",
              "      <td>26.729927</td>\n",
              "    </tr>\n",
              "    <tr>\n",
              "      <th>1</th>\n",
              "      <td>P0006</td>\n",
              "      <td>hombre</td>\n",
              "      <td>2.0</td>\n",
              "      <td>109</td>\n",
              "      <td>190</td>\n",
              "      <td>32</td>\n",
              "      <td>42</td>\n",
              "      <td>Healthy</td>\n",
              "      <td>30.193906</td>\n",
              "    </tr>\n",
              "    <tr>\n",
              "      <th>2</th>\n",
              "      <td>P0007</td>\n",
              "      <td>hombre</td>\n",
              "      <td>34.0</td>\n",
              "      <td>86</td>\n",
              "      <td>169</td>\n",
              "      <td>39</td>\n",
              "      <td>42</td>\n",
              "      <td>Severe</td>\n",
              "      <td>30.110991</td>\n",
              "    </tr>\n",
              "    <tr>\n",
              "      <th>3</th>\n",
              "      <td>P0008</td>\n",
              "      <td>hombre</td>\n",
              "      <td>60.0</td>\n",
              "      <td>145</td>\n",
              "      <td>172</td>\n",
              "      <td>47</td>\n",
              "      <td>44</td>\n",
              "      <td>Severe</td>\n",
              "      <td>49.012980</td>\n",
              "    </tr>\n",
              "    <tr>\n",
              "      <th>4</th>\n",
              "      <td>P0013</td>\n",
              "      <td>hombre</td>\n",
              "      <td>3.7</td>\n",
              "      <td>90</td>\n",
              "      <td>180</td>\n",
              "      <td>36</td>\n",
              "      <td>40</td>\n",
              "      <td>Healthy</td>\n",
              "      <td>27.777778</td>\n",
              "    </tr>\n",
              "    <tr>\n",
              "      <th>5</th>\n",
              "      <td>P0020</td>\n",
              "      <td>hombre</td>\n",
              "      <td>4.3</td>\n",
              "      <td>89</td>\n",
              "      <td>171</td>\n",
              "      <td>44</td>\n",
              "      <td>45</td>\n",
              "      <td>Healthy</td>\n",
              "      <td>30.436716</td>\n",
              "    </tr>\n",
              "    <tr>\n",
              "      <th>6</th>\n",
              "      <td>P0022</td>\n",
              "      <td>hombre</td>\n",
              "      <td>56.0</td>\n",
              "      <td>113</td>\n",
              "      <td>177</td>\n",
              "      <td>33</td>\n",
              "      <td>46</td>\n",
              "      <td>Severe</td>\n",
              "      <td>36.068818</td>\n",
              "    </tr>\n",
              "    <tr>\n",
              "      <th>7</th>\n",
              "      <td>P0024</td>\n",
              "      <td>hombre</td>\n",
              "      <td>53.6</td>\n",
              "      <td>107</td>\n",
              "      <td>170</td>\n",
              "      <td>48</td>\n",
              "      <td>46</td>\n",
              "      <td>Severe</td>\n",
              "      <td>37.024221</td>\n",
              "    </tr>\n",
              "    <tr>\n",
              "      <th>8</th>\n",
              "      <td>P0025</td>\n",
              "      <td>hombre</td>\n",
              "      <td>2.1</td>\n",
              "      <td>70</td>\n",
              "      <td>174</td>\n",
              "      <td>53</td>\n",
              "      <td>38</td>\n",
              "      <td>Healthy</td>\n",
              "      <td>23.120624</td>\n",
              "    </tr>\n",
              "    <tr>\n",
              "      <th>9</th>\n",
              "      <td>P0027</td>\n",
              "      <td>hombre</td>\n",
              "      <td>47.0</td>\n",
              "      <td>100</td>\n",
              "      <td>180</td>\n",
              "      <td>62</td>\n",
              "      <td>48</td>\n",
              "      <td>Severe</td>\n",
              "      <td>30.864198</td>\n",
              "    </tr>\n",
              "  </tbody>\n",
              "</table>\n",
              "</div>\n",
              "      <button class=\"colab-df-convert\" onclick=\"convertToInteractive('df-b712c68d-698a-4dd1-b749-94d1523fd0fe')\"\n",
              "              title=\"Convert this dataframe to an interactive table.\"\n",
              "              style=\"display:none;\">\n",
              "        \n",
              "  <svg xmlns=\"http://www.w3.org/2000/svg\" height=\"24px\"viewBox=\"0 0 24 24\"\n",
              "       width=\"24px\">\n",
              "    <path d=\"M0 0h24v24H0V0z\" fill=\"none\"/>\n",
              "    <path d=\"M18.56 5.44l.94 2.06.94-2.06 2.06-.94-2.06-.94-.94-2.06-.94 2.06-2.06.94zm-11 1L8.5 8.5l.94-2.06 2.06-.94-2.06-.94L8.5 2.5l-.94 2.06-2.06.94zm10 10l.94 2.06.94-2.06 2.06-.94-2.06-.94-.94-2.06-.94 2.06-2.06.94z\"/><path d=\"M17.41 7.96l-1.37-1.37c-.4-.4-.92-.59-1.43-.59-.52 0-1.04.2-1.43.59L10.3 9.45l-7.72 7.72c-.78.78-.78 2.05 0 2.83L4 21.41c.39.39.9.59 1.41.59.51 0 1.02-.2 1.41-.59l7.78-7.78 2.81-2.81c.8-.78.8-2.07 0-2.86zM5.41 20L4 18.59l7.72-7.72 1.47 1.35L5.41 20z\"/>\n",
              "  </svg>\n",
              "      </button>\n",
              "      \n",
              "  <style>\n",
              "    .colab-df-container {\n",
              "      display:flex;\n",
              "      flex-wrap:wrap;\n",
              "      gap: 12px;\n",
              "    }\n",
              "\n",
              "    .colab-df-convert {\n",
              "      background-color: #E8F0FE;\n",
              "      border: none;\n",
              "      border-radius: 50%;\n",
              "      cursor: pointer;\n",
              "      display: none;\n",
              "      fill: #1967D2;\n",
              "      height: 32px;\n",
              "      padding: 0 0 0 0;\n",
              "      width: 32px;\n",
              "    }\n",
              "\n",
              "    .colab-df-convert:hover {\n",
              "      background-color: #E2EBFA;\n",
              "      box-shadow: 0px 1px 2px rgba(60, 64, 67, 0.3), 0px 1px 3px 1px rgba(60, 64, 67, 0.15);\n",
              "      fill: #174EA6;\n",
              "    }\n",
              "\n",
              "    [theme=dark] .colab-df-convert {\n",
              "      background-color: #3B4455;\n",
              "      fill: #D2E3FC;\n",
              "    }\n",
              "\n",
              "    [theme=dark] .colab-df-convert:hover {\n",
              "      background-color: #434B5C;\n",
              "      box-shadow: 0px 1px 3px 1px rgba(0, 0, 0, 0.15);\n",
              "      filter: drop-shadow(0px 1px 2px rgba(0, 0, 0, 0.3));\n",
              "      fill: #FFFFFF;\n",
              "    }\n",
              "  </style>\n",
              "\n",
              "      <script>\n",
              "        const buttonEl =\n",
              "          document.querySelector('#df-b712c68d-698a-4dd1-b749-94d1523fd0fe button.colab-df-convert');\n",
              "        buttonEl.style.display =\n",
              "          google.colab.kernel.accessAllowed ? 'block' : 'none';\n",
              "\n",
              "        async function convertToInteractive(key) {\n",
              "          const element = document.querySelector('#df-b712c68d-698a-4dd1-b749-94d1523fd0fe');\n",
              "          const dataTable =\n",
              "            await google.colab.kernel.invokeFunction('convertToInteractive',\n",
              "                                                     [key], {});\n",
              "          if (!dataTable) return;\n",
              "\n",
              "          const docLinkHtml = 'Like what you see? Visit the ' +\n",
              "            '<a target=\"_blank\" href=https://colab.research.google.com/notebooks/data_table.ipynb>data table notebook</a>'\n",
              "            + ' to learn more about interactive tables.';\n",
              "          element.innerHTML = '';\n",
              "          dataTable['output_type'] = 'display_data';\n",
              "          await google.colab.output.renderOutput(dataTable, element);\n",
              "          const docLink = document.createElement('div');\n",
              "          docLink.innerHTML = docLinkHtml;\n",
              "          element.appendChild(docLink);\n",
              "        }\n",
              "      </script>\n",
              "    </div>\n",
              "  </div>\n",
              "  "
            ]
          },
          "metadata": {},
          "execution_count": 4
        }
      ]
    },
    {
      "cell_type": "markdown",
      "metadata": {
        "id": "1msEiAnWCREX"
      },
      "source": [
        "* # Indicate the features we will use"
      ]
    },
    {
      "cell_type": "code",
      "metadata": {
        "colab": {
          "base_uri": "https://localhost:8080/"
        },
        "id": "cXtKrx4S3s0a",
        "outputId": "0d4cd2cf-9641-4ad4-a71f-c4352d30cdc9"
      },
      "source": [
        "### Picking predictor columns\n",
        "\n",
        "# Get all the columns from the dataframe.\n",
        "columns = df_OSA_male_extreme.columns.tolist()\n",
        "\n",
        "# Filter the columns to remove ones we don't want.\n",
        "columns = [c for c in columns if c not in [\"Patient\",\"Gender\",\"IAH\",\"OSA\"]]\n",
        "\n",
        "# Store the variable we'll be predicting on.\n",
        "target = \"OSA\"\n",
        "\n",
        "print('Predictors: ',columns)"
      ],
      "execution_count": 5,
      "outputs": [
        {
          "output_type": "stream",
          "name": "stdout",
          "text": [
            "Predictors:  ['Weight', 'Height', 'Age', 'Cervical', 'BMI']\n"
          ]
        }
      ]
    },
    {
      "cell_type": "markdown",
      "metadata": {
        "id": "wVpwlEVL4TEi"
      },
      "source": [
        "## We will use data (our features) as Numpy arrays"
      ]
    },
    {
      "cell_type": "code",
      "metadata": {
        "id": "dSzJS3mz4Rxh"
      },
      "source": [
        "import numpy as np\n",
        "\n",
        "X = np.array(df_OSA_male_extreme[columns])\n"
      ],
      "execution_count": 6,
      "outputs": []
    },
    {
      "cell_type": "code",
      "metadata": {
        "colab": {
          "base_uri": "https://localhost:8080/"
        },
        "id": "fjbGm8844fNp",
        "outputId": "79d0d7b8-e328-44d0-8460-2ea61bd7ec91"
      },
      "source": [
        "X.shape"
      ],
      "execution_count": 7,
      "outputs": [
        {
          "output_type": "execute_result",
          "data": {
            "text/plain": [
              "(278, 5)"
            ]
          },
          "metadata": {},
          "execution_count": 7
        }
      ]
    },
    {
      "cell_type": "markdown",
      "metadata": {
        "id": "LCjKpHtc5fPB"
      },
      "source": [
        "# The outcome \"y\" will have two values: binary classification\n",
        "\n",
        "* # we can map \"Healthy\" to \"0\" and \"Severe\" to \"1\""
      ]
    },
    {
      "cell_type": "code",
      "metadata": {
        "id": "Ge6AE1LGDV4Y"
      },
      "source": [
        "df_OSA_male_extreme.OSA = df_OSA_male_extreme.OSA.map({'Healthy': 0, 'Severe': 1})"
      ],
      "execution_count": 8,
      "outputs": []
    },
    {
      "cell_type": "code",
      "metadata": {
        "colab": {
          "base_uri": "https://localhost:8080/",
          "height": 206
        },
        "id": "6w0-WxSIDwIp",
        "outputId": "e6125f5c-ffaf-4dda-b521-556faeab6abe"
      },
      "source": [
        "df_OSA_male_extreme.head()"
      ],
      "execution_count": 9,
      "outputs": [
        {
          "output_type": "execute_result",
          "data": {
            "text/plain": [
              "  Patient  Gender   IAH  Weight  Height  Age  Cervical  OSA        BMI\n",
              "0   P0005  hombre   9.0      80     173   32        40    0  26.729927\n",
              "1   P0006  hombre   2.0     109     190   32        42    0  30.193906\n",
              "2   P0007  hombre  34.0      86     169   39        42    1  30.110991\n",
              "3   P0008  hombre  60.0     145     172   47        44    1  49.012980\n",
              "4   P0013  hombre   3.7      90     180   36        40    0  27.777778"
            ],
            "text/html": [
              "\n",
              "  <div id=\"df-12d45630-1e65-4c1f-b325-86b542a89e75\">\n",
              "    <div class=\"colab-df-container\">\n",
              "      <div>\n",
              "<style scoped>\n",
              "    .dataframe tbody tr th:only-of-type {\n",
              "        vertical-align: middle;\n",
              "    }\n",
              "\n",
              "    .dataframe tbody tr th {\n",
              "        vertical-align: top;\n",
              "    }\n",
              "\n",
              "    .dataframe thead th {\n",
              "        text-align: right;\n",
              "    }\n",
              "</style>\n",
              "<table border=\"1\" class=\"dataframe\">\n",
              "  <thead>\n",
              "    <tr style=\"text-align: right;\">\n",
              "      <th></th>\n",
              "      <th>Patient</th>\n",
              "      <th>Gender</th>\n",
              "      <th>IAH</th>\n",
              "      <th>Weight</th>\n",
              "      <th>Height</th>\n",
              "      <th>Age</th>\n",
              "      <th>Cervical</th>\n",
              "      <th>OSA</th>\n",
              "      <th>BMI</th>\n",
              "    </tr>\n",
              "  </thead>\n",
              "  <tbody>\n",
              "    <tr>\n",
              "      <th>0</th>\n",
              "      <td>P0005</td>\n",
              "      <td>hombre</td>\n",
              "      <td>9.0</td>\n",
              "      <td>80</td>\n",
              "      <td>173</td>\n",
              "      <td>32</td>\n",
              "      <td>40</td>\n",
              "      <td>0</td>\n",
              "      <td>26.729927</td>\n",
              "    </tr>\n",
              "    <tr>\n",
              "      <th>1</th>\n",
              "      <td>P0006</td>\n",
              "      <td>hombre</td>\n",
              "      <td>2.0</td>\n",
              "      <td>109</td>\n",
              "      <td>190</td>\n",
              "      <td>32</td>\n",
              "      <td>42</td>\n",
              "      <td>0</td>\n",
              "      <td>30.193906</td>\n",
              "    </tr>\n",
              "    <tr>\n",
              "      <th>2</th>\n",
              "      <td>P0007</td>\n",
              "      <td>hombre</td>\n",
              "      <td>34.0</td>\n",
              "      <td>86</td>\n",
              "      <td>169</td>\n",
              "      <td>39</td>\n",
              "      <td>42</td>\n",
              "      <td>1</td>\n",
              "      <td>30.110991</td>\n",
              "    </tr>\n",
              "    <tr>\n",
              "      <th>3</th>\n",
              "      <td>P0008</td>\n",
              "      <td>hombre</td>\n",
              "      <td>60.0</td>\n",
              "      <td>145</td>\n",
              "      <td>172</td>\n",
              "      <td>47</td>\n",
              "      <td>44</td>\n",
              "      <td>1</td>\n",
              "      <td>49.012980</td>\n",
              "    </tr>\n",
              "    <tr>\n",
              "      <th>4</th>\n",
              "      <td>P0013</td>\n",
              "      <td>hombre</td>\n",
              "      <td>3.7</td>\n",
              "      <td>90</td>\n",
              "      <td>180</td>\n",
              "      <td>36</td>\n",
              "      <td>40</td>\n",
              "      <td>0</td>\n",
              "      <td>27.777778</td>\n",
              "    </tr>\n",
              "  </tbody>\n",
              "</table>\n",
              "</div>\n",
              "      <button class=\"colab-df-convert\" onclick=\"convertToInteractive('df-12d45630-1e65-4c1f-b325-86b542a89e75')\"\n",
              "              title=\"Convert this dataframe to an interactive table.\"\n",
              "              style=\"display:none;\">\n",
              "        \n",
              "  <svg xmlns=\"http://www.w3.org/2000/svg\" height=\"24px\"viewBox=\"0 0 24 24\"\n",
              "       width=\"24px\">\n",
              "    <path d=\"M0 0h24v24H0V0z\" fill=\"none\"/>\n",
              "    <path d=\"M18.56 5.44l.94 2.06.94-2.06 2.06-.94-2.06-.94-.94-2.06-.94 2.06-2.06.94zm-11 1L8.5 8.5l.94-2.06 2.06-.94-2.06-.94L8.5 2.5l-.94 2.06-2.06.94zm10 10l.94 2.06.94-2.06 2.06-.94-2.06-.94-.94-2.06-.94 2.06-2.06.94z\"/><path d=\"M17.41 7.96l-1.37-1.37c-.4-.4-.92-.59-1.43-.59-.52 0-1.04.2-1.43.59L10.3 9.45l-7.72 7.72c-.78.78-.78 2.05 0 2.83L4 21.41c.39.39.9.59 1.41.59.51 0 1.02-.2 1.41-.59l7.78-7.78 2.81-2.81c.8-.78.8-2.07 0-2.86zM5.41 20L4 18.59l7.72-7.72 1.47 1.35L5.41 20z\"/>\n",
              "  </svg>\n",
              "      </button>\n",
              "      \n",
              "  <style>\n",
              "    .colab-df-container {\n",
              "      display:flex;\n",
              "      flex-wrap:wrap;\n",
              "      gap: 12px;\n",
              "    }\n",
              "\n",
              "    .colab-df-convert {\n",
              "      background-color: #E8F0FE;\n",
              "      border: none;\n",
              "      border-radius: 50%;\n",
              "      cursor: pointer;\n",
              "      display: none;\n",
              "      fill: #1967D2;\n",
              "      height: 32px;\n",
              "      padding: 0 0 0 0;\n",
              "      width: 32px;\n",
              "    }\n",
              "\n",
              "    .colab-df-convert:hover {\n",
              "      background-color: #E2EBFA;\n",
              "      box-shadow: 0px 1px 2px rgba(60, 64, 67, 0.3), 0px 1px 3px 1px rgba(60, 64, 67, 0.15);\n",
              "      fill: #174EA6;\n",
              "    }\n",
              "\n",
              "    [theme=dark] .colab-df-convert {\n",
              "      background-color: #3B4455;\n",
              "      fill: #D2E3FC;\n",
              "    }\n",
              "\n",
              "    [theme=dark] .colab-df-convert:hover {\n",
              "      background-color: #434B5C;\n",
              "      box-shadow: 0px 1px 3px 1px rgba(0, 0, 0, 0.15);\n",
              "      filter: drop-shadow(0px 1px 2px rgba(0, 0, 0, 0.3));\n",
              "      fill: #FFFFFF;\n",
              "    }\n",
              "  </style>\n",
              "\n",
              "      <script>\n",
              "        const buttonEl =\n",
              "          document.querySelector('#df-12d45630-1e65-4c1f-b325-86b542a89e75 button.colab-df-convert');\n",
              "        buttonEl.style.display =\n",
              "          google.colab.kernel.accessAllowed ? 'block' : 'none';\n",
              "\n",
              "        async function convertToInteractive(key) {\n",
              "          const element = document.querySelector('#df-12d45630-1e65-4c1f-b325-86b542a89e75');\n",
              "          const dataTable =\n",
              "            await google.colab.kernel.invokeFunction('convertToInteractive',\n",
              "                                                     [key], {});\n",
              "          if (!dataTable) return;\n",
              "\n",
              "          const docLinkHtml = 'Like what you see? Visit the ' +\n",
              "            '<a target=\"_blank\" href=https://colab.research.google.com/notebooks/data_table.ipynb>data table notebook</a>'\n",
              "            + ' to learn more about interactive tables.';\n",
              "          element.innerHTML = '';\n",
              "          dataTable['output_type'] = 'display_data';\n",
              "          await google.colab.output.renderOutput(dataTable, element);\n",
              "          const docLink = document.createElement('div');\n",
              "          docLink.innerHTML = docLinkHtml;\n",
              "          element.appendChild(docLink);\n",
              "        }\n",
              "      </script>\n",
              "    </div>\n",
              "  </div>\n",
              "  "
            ]
          },
          "metadata": {},
          "execution_count": 9
        }
      ]
    },
    {
      "cell_type": "code",
      "metadata": {
        "id": "_S4KIXvs44GK"
      },
      "source": [
        "y = np.array(df_OSA_male_extreme['OSA'])"
      ],
      "execution_count": 10,
      "outputs": []
    },
    {
      "cell_type": "markdown",
      "metadata": {
        "id": "ZyP7kIhN62Wj"
      },
      "source": [
        "## Now we train a Random Forest using Nested or Double Loop Crossvalidation"
      ]
    },
    {
      "cell_type": "code",
      "metadata": {
        "colab": {
          "base_uri": "https://localhost:8080/"
        },
        "id": "kH8n8G95ln3q",
        "outputId": "6fb2257b-e43b-4152-e990-faf72e88ea91"
      },
      "source": [
        "from numpy import mean\n",
        "from numpy import std\n",
        "from sklearn.datasets import make_classification\n",
        "from sklearn.model_selection import KFold\n",
        "from sklearn.model_selection import GridSearchCV\n",
        "from sklearn.ensemble import RandomForestClassifier\n",
        "from sklearn.metrics import accuracy_score\n",
        "\n",
        "\n",
        "# configure the cross-validation procedure\n",
        "cv_outer = KFold(n_splits=10, shuffle=True, random_state=1)\n",
        "# enumerate splits\n",
        "outer_results = list()\n",
        "for train_ix, test_ix in cv_outer.split(X):\n",
        "\t# split data\n",
        "\tX_train, X_test = X[train_ix, :], X[test_ix, :]\n",
        "\ty_train, y_test = y[train_ix], y[test_ix]\n",
        "\t# configure the cross-validation procedure\n",
        "\tcv_inner = KFold(n_splits=3, shuffle=True, random_state=1)\n",
        "\t# define the model\n",
        "\tmodel = RandomForestClassifier(random_state=1)\n",
        "\t# define search space\n",
        "\tspace = dict()\n",
        "\tspace['n_estimators'] = [100, 250, 500, 600]\n",
        "\tspace['max_features'] = [2, 3, 4]\n",
        "\t# define search\n",
        "\tsearch = GridSearchCV(model, space, scoring='accuracy', cv=cv_inner, refit=True)\n",
        "\t# execute search\n",
        "\tresult = search.fit(X_train, y_train)\n",
        "\t# get the best performing model fit on the whole training set\n",
        "\tbest_model = result.best_estimator_\n",
        "\t# evaluate model on the hold out dataset\n",
        "\tyhat = best_model.predict(X_test)\n",
        "\t# evaluate the model\n",
        "\tacc = accuracy_score(y_test, yhat)\n",
        "\t# store the result\n",
        "\touter_results.append(acc)\n",
        "\t# report progress\n",
        "\tprint('>acc=%.3f, est=%.3f, cfg=%s' % (acc, result.best_score_, result.best_params_))\n",
        "# summarize the estimated performance of the model\n",
        "print('Accuracy: %.3f (%.3f)' % (mean(outer_results), std(outer_results)))"
      ],
      "execution_count": 11,
      "outputs": [
        {
          "output_type": "stream",
          "name": "stdout",
          "text": [
            ">acc=0.571, est=0.744, cfg={'max_features': 3, 'n_estimators': 500}\n",
            ">acc=0.750, est=0.696, cfg={'max_features': 3, 'n_estimators': 500}\n",
            ">acc=0.643, est=0.716, cfg={'max_features': 3, 'n_estimators': 100}\n",
            ">acc=0.714, est=0.752, cfg={'max_features': 2, 'n_estimators': 250}\n",
            ">acc=0.786, est=0.728, cfg={'max_features': 4, 'n_estimators': 100}\n",
            ">acc=0.821, est=0.732, cfg={'max_features': 2, 'n_estimators': 250}\n",
            ">acc=0.679, est=0.736, cfg={'max_features': 3, 'n_estimators': 100}\n",
            ">acc=0.643, est=0.760, cfg={'max_features': 2, 'n_estimators': 250}\n",
            ">acc=0.852, est=0.670, cfg={'max_features': 4, 'n_estimators': 100}\n",
            ">acc=0.667, est=0.709, cfg={'max_features': 3, 'n_estimators': 500}\n",
            "Accuracy: 0.713 (0.084)\n"
          ]
        }
      ]
    },
    {
      "cell_type": "markdown",
      "metadata": {
        "id": "HnGj5NztfAKB"
      },
      "source": [
        "## We train a Random Forest with \"best hyperparameters\" using ALL data? (discuss!)"
      ]
    },
    {
      "cell_type": "code",
      "metadata": {
        "id": "2X4VXRONeVXR",
        "colab": {
          "base_uri": "https://localhost:8080/"
        },
        "outputId": "021d4a49-0e55-40cc-c7e1-12621c2a1fe6"
      },
      "source": [
        "from sklearn.model_selection import train_test_split\n",
        "\n",
        "# define the model\n",
        "forest = RandomForestClassifier(max_features = 3, n_estimators = 500,random_state=1)\n",
        "\n",
        "X_train, X_test, y_train, y_test = train_test_split(X, y, stratify=y, random_state=42)\n",
        "\n",
        "forest.fit(X_train, y_train)\n"
      ],
      "execution_count": 22,
      "outputs": [
        {
          "output_type": "execute_result",
          "data": {
            "text/plain": [
              "RandomForestClassifier(max_features=3, n_estimators=500, random_state=1)"
            ]
          },
          "metadata": {},
          "execution_count": 22
        }
      ]
    },
    {
      "cell_type": "markdown",
      "source": [
        "## You can try the different approaches in [Sklearn RF examples](https://scikit-learn.org/stable/auto_examples/ensemble/plot_forest_importances.html)"
      ],
      "metadata": {
        "id": "6FzDRLR7QFw0"
      }
    },
    {
      "cell_type": "markdown",
      "source": [
        "* ### Feature importance based on mean decrease in impurity\n",
        "\n",
        "Feature importances are provided by the fitted attribute feature_importances_ and they are computed as the mean and standard deviation of accumulation of the impurity decrease within each tree."
      ],
      "metadata": {
        "id": "LDoG5YJPQcAN"
      }
    },
    {
      "cell_type": "code",
      "source": [
        "import time\n",
        "import numpy as np\n",
        "\n",
        "start_time = time.time()\n",
        "importances = forest.feature_importances_\n",
        "std = np.std([tree.feature_importances_ for tree in forest.estimators_], axis=0)\n",
        "elapsed_time = time.time() - start_time\n",
        "\n",
        "print(f\"Elapsed time to compute the importances: {elapsed_time:.3f} seconds\")"
      ],
      "metadata": {
        "colab": {
          "base_uri": "https://localhost:8080/"
        },
        "id": "qXE-UxKSQEz-",
        "outputId": "17b2bc36-abeb-4c6c-a182-13f43097238a"
      },
      "execution_count": 23,
      "outputs": [
        {
          "output_type": "stream",
          "name": "stdout",
          "text": [
            "Elapsed time to compute the importances: 0.074 seconds\n"
          ]
        }
      ]
    },
    {
      "cell_type": "code",
      "source": [
        "import matplotlib.pyplot as plt\n",
        "\n",
        "forest_importances = pd.Series(importances, index=columns)\n",
        "\n",
        "fig, ax = plt.subplots()\n",
        "forest_importances.plot.bar(yerr=std, ax=ax)\n",
        "ax.set_title(\"Feature importances using MDI\")\n",
        "ax.set_ylabel(\"Mean decrease in impurity\")\n",
        "fig.tight_layout()"
      ],
      "metadata": {
        "colab": {
          "base_uri": "https://localhost:8080/",
          "height": 297
        },
        "id": "X3XZrkASQn-U",
        "outputId": "7f2b5be4-2921-48eb-e3d1-53ecc5d1235e"
      },
      "execution_count": 24,
      "outputs": [
        {
          "output_type": "display_data",
          "data": {
            "text/plain": [
              "<Figure size 432x288 with 1 Axes>"
            ],
            "image/png": "[encoded data removed]"
          },
          "metadata": {
            "needs_background": "light"
          }
        }
      ]
    },
    {
      "cell_type": "markdown",
      "source": [
        "* ## Feature importance based on feature permutation\n",
        "Permutation feature importance overcomes limitations of the impurity-based feature importance: they do not have a bias toward high-cardinality features and <font color = red>can be computed on a left-out test set</font>."
      ],
      "metadata": {
        "id": "F9QIA-JQRFHE"
      }
    },
    {
      "cell_type": "code",
      "source": [
        "from sklearn.inspection import permutation_importance\n",
        "\n",
        "start_time = time.time()\n",
        "result = permutation_importance(\n",
        "    forest, X_test, y_test, n_repeats=10, random_state=42, n_jobs=2\n",
        ")\n",
        "elapsed_time = time.time() - start_time\n",
        "print(f\"Elapsed time to compute the importances: {elapsed_time:.3f} seconds\")\n",
        "\n",
        "forest_importances = pd.Series(result.importances_mean, index=columns)\n",
        "\n",
        "fig, ax = plt.subplots()\n",
        "forest_importances.plot.bar(yerr=result.importances_std, ax=ax)\n",
        "ax.set_title(\"Feature importances using permutation on full model\")\n",
        "ax.set_ylabel(\"Mean accuracy decrease\")\n",
        "fig.tight_layout()\n",
        "plt.show()"
      ],
      "metadata": {
        "colab": {
          "base_uri": "https://localhost:8080/",
          "height": 314
        },
        "id": "ZO5CPIllRDi0",
        "outputId": "6ec9c086-f743-4be2-94be-8fe5514309ec"
      },
      "execution_count": 25,
      "outputs": [
        {
          "output_type": "stream",
          "name": "stdout",
          "text": [
            "Elapsed time to compute the importances: 2.661 seconds\n"
          ]
        },
        {
          "output_type": "display_data",
          "data": {
            "text/plain": [
              "<Figure size 432x288 with 1 Axes>"
            ],
            "image/png": "[encoded data removed]"
          },
          "metadata": {
            "needs_background": "light"
          }
        }
      ]
    }
  ]
}