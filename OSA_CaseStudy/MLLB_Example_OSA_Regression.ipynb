{
  "nbformat": 4,
  "nbformat_minor": 0,
  "metadata": {
    "colab": {
      "provenance": [],
      "collapsed_sections": []
    },
    "kernelspec": {
      "display_name": "Python 3",
      "language": "python",
      "name": "python3"
    },
    "language_info": {
      "codemirror_mode": {
        "name": "ipython",
        "version": 3
      },
      "file_extension": ".py",
      "mimetype": "text/x-python",
      "name": "python",
      "nbconvert_exporter": "python",
      "pygments_lexer": "ipython3",
      "version": "3.7.3"
    }
  },
  "cells": [
    {
      "cell_type": "markdown",
      "metadata": {
        "id": "dYUgHiLyKvRj"
      },
      "source": [
        "## <font color=FF4455>OSA Regression Examples</font>\n",
        "---\n",
        "\n",
        "\n",
        "### Machine Learning LAB\n",
        "### *ETSIT - UPM*\n",
        "---\n"
      ]
    },
    {
      "cell_type": "markdown",
      "metadata": {
        "id": "bxUqv_bSWs2m"
      },
      "source": [
        "# Import the OSA data for REGRESSION on the IAH into a Pandas Dataframe OSA_df\n",
        "OSA_Regression.xlsx\n",
        "\n",
        "\n"
      ]
    },
    {
      "cell_type": "code",
      "metadata": {
        "id": "s8Z8czPVzAKs",
        "outputId": "7fdd201f-1054-4f57-c879-4f9b6c2d3a6f",
        "colab": {
          "base_uri": "https://localhost:8080/",
          "height": 109
        }
      },
      "source": [
        "from google.colab import files\n",
        "\n",
        "uploaded = files.upload()\n",
        "\n",
        "for fn in uploaded.keys():\n",
        "  print('User uploaded file \"{name}\" with length {length} bytes'.format(\n",
        "      name=fn, length=len(uploaded[fn])))\n"
      ],
      "execution_count": 2,
      "outputs": [
        {
          "output_type": "display_data",
          "data": {
            "text/plain": [
              "<IPython.core.display.HTML object>"
            ],
            "text/html": [
              "\n",
              "     <input type=\"file\" id=\"files-20435a81-9aa5-46ea-877b-b0665c043f2e\" name=\"files[]\" multiple disabled\n",
              "        style=\"border:none\" />\n",
              "     <output id=\"result-20435a81-9aa5-46ea-877b-b0665c043f2e\">\n",
              "      Upload widget is only available when the cell has been executed in the\n",
              "      current browser session. Please rerun this cell to enable.\n",
              "      </output>\n",
              "      <script>// Copyright 2017 Google LLC\n",
              "//\n",
              "// Licensed under the Apache License, Version 2.0 (the \"License\");\n",
              "// you may not use this file except in compliance with the License.\n",
              "// You may obtain a copy of the License at\n",
              "//\n",
              "//      http://www.apache.org/licenses/LICENSE-2.0\n",
              "//\n",
              "// Unless required by applicable law or agreed to in writing, software\n",
              "// distributed under the License is distributed on an \"AS IS\" BASIS,\n",
              "// WITHOUT WARRANTIES OR CONDITIONS OF ANY KIND, either express or implied.\n",
              "// See the License for the specific language governing permissions and\n",
              "// limitations under the License.\n",
              "\n",
              "/**\n",
              " * @fileoverview Helpers for google.colab Python module.\n",
              " */\n",
              "(function(scope) {\n",
              "function span(text, styleAttributes = {}) {\n",
              "  const element = document.createElement('span');\n",
              "  element.textContent = text;\n",
              "  for (const key of Object.keys(styleAttributes)) {\n",
              "    element.style[key] = styleAttributes[key];\n",
              "  }\n",
              "  return element;\n",
              "}\n",
              "\n",
              "// Max number of bytes which will be uploaded at a time.\n",
              "const MAX_PAYLOAD_SIZE = 100 * 1024;\n",
              "\n",
              "function _uploadFiles(inputId, outputId) {\n",
              "  const steps = uploadFilesStep(inputId, outputId);\n",
              "  const outputElement = document.getElementById(outputId);\n",
              "  // Cache steps on the outputElement to make it available for the next call\n",
              "  // to uploadFilesContinue from Python.\n",
              "  outputElement.steps = steps;\n",
              "\n",
              "  return _uploadFilesContinue(outputId);\n",
              "}\n",
              "\n",
              "// This is roughly an async generator (not supported in the browser yet),\n",
              "// where there are multiple asynchronous steps and the Python side is going\n",
              "// to poll for completion of each step.\n",
              "// This uses a Promise to block the python side on completion of each step,\n",
              "// then passes the result of the previous step as the input to the next step.\n",
              "function _uploadFilesContinue(outputId) {\n",
              "  const outputElement = document.getElementById(outputId);\n",
              "  const steps = outputElement.steps;\n",
              "\n",
              "  const next = steps.next(outputElement.lastPromiseValue);\n",
              "  return Promise.resolve(next.value.promise).then((value) => {\n",
              "    // Cache the last promise value to make it available to the next\n",
              "    // step of the generator.\n",
              "    outputElement.lastPromiseValue = value;\n",
              "    return next.value.response;\n",
              "  });\n",
              "}\n",
              "\n",
              "/**\n",
              " * Generator function which is called between each async step of the upload\n",
              " * process.\n",
              " * @param {string} inputId Element ID of the input file picker element.\n",
              " * @param {string} outputId Element ID of the output display.\n",
              " * @return {!Iterable<!Object>} Iterable of next steps.\n",
              " */\n",
              "function* uploadFilesStep(inputId, outputId) {\n",
              "  const inputElement = document.getElementById(inputId);\n",
              "  inputElement.disabled = false;\n",
              "\n",
              "  const outputElement = document.getElementById(outputId);\n",
              "  outputElement.innerHTML = '';\n",
              "\n",
              "  const pickedPromise = new Promise((resolve) => {\n",
              "    inputElement.addEventListener('change', (e) => {\n",
              "      resolve(e.target.files);\n",
              "    });\n",
              "  });\n",
              "\n",
              "  const cancel = document.createElement('button');\n",
              "  inputElement.parentElement.appendChild(cancel);\n",
              "  cancel.textContent = 'Cancel upload';\n",
              "  const cancelPromise = new Promise((resolve) => {\n",
              "    cancel.onclick = () => {\n",
              "      resolve(null);\n",
              "    };\n",
              "  });\n",
              "\n",
              "  // Wait for the user to pick the files.\n",
              "  const files = yield {\n",
              "    promise: Promise.race([pickedPromise, cancelPromise]),\n",
              "    response: {\n",
              "      action: 'starting',\n",
              "    }\n",
              "  };\n",
              "\n",
              "  cancel.remove();\n",
              "\n",
              "  // Disable the input element since further picks are not allowed.\n",
              "  inputElement.disabled = true;\n",
              "\n",
              "  if (!files) {\n",
              "    return {\n",
              "      response: {\n",
              "        action: 'complete',\n",
              "      }\n",
              "    };\n",
              "  }\n",
              "\n",
              "  for (const file of files) {\n",
              "    const li = document.createElement('li');\n",
              "    li.append(span(file.name, {fontWeight: 'bold'}));\n",
              "    li.append(span(\n",
              "        `(${file.type || 'n/a'}) - ${file.size} bytes, ` +\n",
              "        `last modified: ${\n",
              "            file.lastModifiedDate ? file.lastModifiedDate.toLocaleDateString() :\n",
              "                                    'n/a'} - `));\n",
              "    const percent = span('0% done');\n",
              "    li.appendChild(percent);\n",
              "\n",
              "    outputElement.appendChild(li);\n",
              "\n",
              "    const fileDataPromise = new Promise((resolve) => {\n",
              "      const reader = new FileReader();\n",
              "      reader.onload = (e) => {\n",
              "        resolve(e.target.result);\n",
              "      };\n",
              "      reader.readAsArrayBuffer(file);\n",
              "    });\n",
              "    // Wait for the data to be ready.\n",
              "    let fileData = yield {\n",
              "      promise: fileDataPromise,\n",
              "      response: {\n",
              "        action: 'continue',\n",
              "      }\n",
              "    };\n",
              "\n",
              "    // Use a chunked sending to avoid message size limits. See b/62115660.\n",
              "    let position = 0;\n",
              "    do {\n",
              "      const length = Math.min(fileData.byteLength - position, MAX_PAYLOAD_SIZE);\n",
              "      const chunk = new Uint8Array(fileData, position, length);\n",
              "      position += length;\n",
              "\n",
              "      const base64 = btoa(String.fromCharCode.apply(null, chunk));\n",
              "      yield {\n",
              "        response: {\n",
              "          action: 'append',\n",
              "          file: file.name,\n",
              "          data: base64,\n",
              "        },\n",
              "      };\n",
              "\n",
              "      let percentDone = fileData.byteLength === 0 ?\n",
              "          100 :\n",
              "          Math.round((position / fileData.byteLength) * 100);\n",
              "      percent.textContent = `${percentDone}% done`;\n",
              "\n",
              "    } while (position < fileData.byteLength);\n",
              "  }\n",
              "\n",
              "  // All done.\n",
              "  yield {\n",
              "    response: {\n",
              "      action: 'complete',\n",
              "    }\n",
              "  };\n",
              "}\n",
              "\n",
              "scope.google = scope.google || {};\n",
              "scope.google.colab = scope.google.colab || {};\n",
              "scope.google.colab._files = {\n",
              "  _uploadFiles,\n",
              "  _uploadFilesContinue,\n",
              "};\n",
              "})(self);\n",
              "</script> "
            ]
          },
          "metadata": {}
        },
        {
          "output_type": "stream",
          "name": "stdout",
          "text": [
            "Saving OSA_Regression.xlsx to OSA_Regression.xlsx\n",
            "User uploaded file \"OSA_Regression.xlsx\" with length 28966 bytes\n"
          ]
        }
      ]
    },
    {
      "cell_type": "code",
      "metadata": {
        "id": "TdKcLJK1CxuT"
      },
      "source": [
        "# Import pandas\n",
        "import pandas as pd\n",
        "\n",
        "# Read OSA data into OSA_df\n",
        "OSA_df = pd.read_excel(\"OSA_Regression.xlsx\", sheet_name='Hoja1')\n"
      ],
      "execution_count": 3,
      "outputs": []
    },
    {
      "cell_type": "code",
      "metadata": {
        "id": "RIBlt6H65-Bv",
        "outputId": "f290e17f-a88b-46ed-8650-43a4d624a96a",
        "colab": {
          "base_uri": "https://localhost:8080/",
          "height": 363
        }
      },
      "source": [
        "OSA_df.head(10)"
      ],
      "execution_count": 4,
      "outputs": [
        {
          "output_type": "execute_result",
          "data": {
            "text/plain": [
              "    IAH  Weight  Height  Cervical  Gender  Age        BMI\n",
              "0  29.6     119     174      48.0       0   56  39.305060\n",
              "1  19.7      78     168      42.0       0   39  27.636054\n",
              "2   9.0      80     173      40.0       0   32  26.729927\n",
              "3   2.0     109     190      42.0       0   32  30.193906\n",
              "4  34.0      86     169      42.0       0   39  30.110991\n",
              "5  60.0     145     172      44.0       0   47  49.012980\n",
              "6  22.0      72     165      42.0       0   40  26.446281\n",
              "7  11.0      80     180      38.0       0   28  24.691358\n",
              "8   3.7      90     180      40.0       0   36  27.777778\n",
              "9   7.0      50     158      35.0       1   50  20.028842"
            ],
            "text/html": [
              "\n",
              "  <div id=\"df-c385a24f-2b55-4d6d-9459-bf6b9d39fb02\">\n",
              "    <div class=\"colab-df-container\">\n",
              "      <div>\n",
              "<style scoped>\n",
              "    .dataframe tbody tr th:only-of-type {\n",
              "        vertical-align: middle;\n",
              "    }\n",
              "\n",
              "    .dataframe tbody tr th {\n",
              "        vertical-align: top;\n",
              "    }\n",
              "\n",
              "    .dataframe thead th {\n",
              "        text-align: right;\n",
              "    }\n",
              "</style>\n",
              "<table border=\"1\" class=\"dataframe\">\n",
              "  <thead>\n",
              "    <tr style=\"text-align: right;\">\n",
              "      <th></th>\n",
              "      <th>IAH</th>\n",
              "      <th>Weight</th>\n",
              "      <th>Height</th>\n",
              "      <th>Cervical</th>\n",
              "      <th>Gender</th>\n",
              "      <th>Age</th>\n",
              "      <th>BMI</th>\n",
              "    </tr>\n",
              "  </thead>\n",
              "  <tbody>\n",
              "    <tr>\n",
              "      <th>0</th>\n",
              "      <td>29.6</td>\n",
              "      <td>119</td>\n",
              "      <td>174</td>\n",
              "      <td>48.0</td>\n",
              "      <td>0</td>\n",
              "      <td>56</td>\n",
              "      <td>39.305060</td>\n",
              "    </tr>\n",
              "    <tr>\n",
              "      <th>1</th>\n",
              "      <td>19.7</td>\n",
              "      <td>78</td>\n",
              "      <td>168</td>\n",
              "      <td>42.0</td>\n",
              "      <td>0</td>\n",
              "      <td>39</td>\n",
              "      <td>27.636054</td>\n",
              "    </tr>\n",
              "    <tr>\n",
              "      <th>2</th>\n",
              "      <td>9.0</td>\n",
              "      <td>80</td>\n",
              "      <td>173</td>\n",
              "      <td>40.0</td>\n",
              "      <td>0</td>\n",
              "      <td>32</td>\n",
              "      <td>26.729927</td>\n",
              "    </tr>\n",
              "    <tr>\n",
              "      <th>3</th>\n",
              "      <td>2.0</td>\n",
              "      <td>109</td>\n",
              "      <td>190</td>\n",
              "      <td>42.0</td>\n",
              "      <td>0</td>\n",
              "      <td>32</td>\n",
              "      <td>30.193906</td>\n",
              "    </tr>\n",
              "    <tr>\n",
              "      <th>4</th>\n",
              "      <td>34.0</td>\n",
              "      <td>86</td>\n",
              "      <td>169</td>\n",
              "      <td>42.0</td>\n",
              "      <td>0</td>\n",
              "      <td>39</td>\n",
              "      <td>30.110991</td>\n",
              "    </tr>\n",
              "    <tr>\n",
              "      <th>5</th>\n",
              "      <td>60.0</td>\n",
              "      <td>145</td>\n",
              "      <td>172</td>\n",
              "      <td>44.0</td>\n",
              "      <td>0</td>\n",
              "      <td>47</td>\n",
              "      <td>49.012980</td>\n",
              "    </tr>\n",
              "    <tr>\n",
              "      <th>6</th>\n",
              "      <td>22.0</td>\n",
              "      <td>72</td>\n",
              "      <td>165</td>\n",
              "      <td>42.0</td>\n",
              "      <td>0</td>\n",
              "      <td>40</td>\n",
              "      <td>26.446281</td>\n",
              "    </tr>\n",
              "    <tr>\n",
              "      <th>7</th>\n",
              "      <td>11.0</td>\n",
              "      <td>80</td>\n",
              "      <td>180</td>\n",
              "      <td>38.0</td>\n",
              "      <td>0</td>\n",
              "      <td>28</td>\n",
              "      <td>24.691358</td>\n",
              "    </tr>\n",
              "    <tr>\n",
              "      <th>8</th>\n",
              "      <td>3.7</td>\n",
              "      <td>90</td>\n",
              "      <td>180</td>\n",
              "      <td>40.0</td>\n",
              "      <td>0</td>\n",
              "      <td>36</td>\n",
              "      <td>27.777778</td>\n",
              "    </tr>\n",
              "    <tr>\n",
              "      <th>9</th>\n",
              "      <td>7.0</td>\n",
              "      <td>50</td>\n",
              "      <td>158</td>\n",
              "      <td>35.0</td>\n",
              "      <td>1</td>\n",
              "      <td>50</td>\n",
              "      <td>20.028842</td>\n",
              "    </tr>\n",
              "  </tbody>\n",
              "</table>\n",
              "</div>\n",
              "      <button class=\"colab-df-convert\" onclick=\"convertToInteractive('df-c385a24f-2b55-4d6d-9459-bf6b9d39fb02')\"\n",
              "              title=\"Convert this dataframe to an interactive table.\"\n",
              "              style=\"display:none;\">\n",
              "        \n",
              "  <svg xmlns=\"http://www.w3.org/2000/svg\" height=\"24px\"viewBox=\"0 0 24 24\"\n",
              "       width=\"24px\">\n",
              "    <path d=\"M0 0h24v24H0V0z\" fill=\"none\"/>\n",
              "    <path d=\"M18.56 5.44l.94 2.06.94-2.06 2.06-.94-2.06-.94-.94-2.06-.94 2.06-2.06.94zm-11 1L8.5 8.5l.94-2.06 2.06-.94-2.06-.94L8.5 2.5l-.94 2.06-2.06.94zm10 10l.94 2.06.94-2.06 2.06-.94-2.06-.94-.94-2.06-.94 2.06-2.06.94z\"/><path d=\"M17.41 7.96l-1.37-1.37c-.4-.4-.92-.59-1.43-.59-.52 0-1.04.2-1.43.59L10.3 9.45l-7.72 7.72c-.78.78-.78 2.05 0 2.83L4 21.41c.39.39.9.59 1.41.59.51 0 1.02-.2 1.41-.59l7.78-7.78 2.81-2.81c.8-.78.8-2.07 0-2.86zM5.41 20L4 18.59l7.72-7.72 1.47 1.35L5.41 20z\"/>\n",
              "  </svg>\n",
              "      </button>\n",
              "      \n",
              "  <style>\n",
              "    .colab-df-container {\n",
              "      display:flex;\n",
              "      flex-wrap:wrap;\n",
              "      gap: 12px;\n",
              "    }\n",
              "\n",
              "    .colab-df-convert {\n",
              "      background-color: #E8F0FE;\n",
              "      border: none;\n",
              "      border-radius: 50%;\n",
              "      cursor: pointer;\n",
              "      display: none;\n",
              "      fill: #1967D2;\n",
              "      height: 32px;\n",
              "      padding: 0 0 0 0;\n",
              "      width: 32px;\n",
              "    }\n",
              "\n",
              "    .colab-df-convert:hover {\n",
              "      background-color: #E2EBFA;\n",
              "      box-shadow: 0px 1px 2px rgba(60, 64, 67, 0.3), 0px 1px 3px 1px rgba(60, 64, 67, 0.15);\n",
              "      fill: #174EA6;\n",
              "    }\n",
              "\n",
              "    [theme=dark] .colab-df-convert {\n",
              "      background-color: #3B4455;\n",
              "      fill: #D2E3FC;\n",
              "    }\n",
              "\n",
              "    [theme=dark] .colab-df-convert:hover {\n",
              "      background-color: #434B5C;\n",
              "      box-shadow: 0px 1px 3px 1px rgba(0, 0, 0, 0.15);\n",
              "      filter: drop-shadow(0px 1px 2px rgba(0, 0, 0, 0.3));\n",
              "      fill: #FFFFFF;\n",
              "    }\n",
              "  </style>\n",
              "\n",
              "      <script>\n",
              "        const buttonEl =\n",
              "          document.querySelector('#df-c385a24f-2b55-4d6d-9459-bf6b9d39fb02 button.colab-df-convert');\n",
              "        buttonEl.style.display =\n",
              "          google.colab.kernel.accessAllowed ? 'block' : 'none';\n",
              "\n",
              "        async function convertToInteractive(key) {\n",
              "          const element = document.querySelector('#df-c385a24f-2b55-4d6d-9459-bf6b9d39fb02');\n",
              "          const dataTable =\n",
              "            await google.colab.kernel.invokeFunction('convertToInteractive',\n",
              "                                                     [key], {});\n",
              "          if (!dataTable) return;\n",
              "\n",
              "          const docLinkHtml = 'Like what you see? Visit the ' +\n",
              "            '<a target=\"_blank\" href=https://colab.research.google.com/notebooks/data_table.ipynb>data table notebook</a>'\n",
              "            + ' to learn more about interactive tables.';\n",
              "          element.innerHTML = '';\n",
              "          dataTable['output_type'] = 'display_data';\n",
              "          await google.colab.output.renderOutput(dataTable, element);\n",
              "          const docLink = document.createElement('div');\n",
              "          docLink.innerHTML = docLinkHtml;\n",
              "          element.appendChild(docLink);\n",
              "        }\n",
              "      </script>\n",
              "    </div>\n",
              "  </div>\n",
              "  "
            ]
          },
          "metadata": {},
          "execution_count": 4
        }
      ]
    },
    {
      "cell_type": "code",
      "metadata": {
        "id": "Lp8mSLYB56Ao",
        "outputId": "a67dc233-40d0-4756-923a-9d86a5bc0fd8",
        "colab": {
          "base_uri": "https://localhost:8080/",
          "height": 300
        }
      },
      "source": [
        "OSA_df.describe()"
      ],
      "execution_count": 5,
      "outputs": [
        {
          "output_type": "execute_result",
          "data": {
            "text/plain": [
              "              IAH      Weight      Height    Cervical      Gender         Age  \\\n",
              "count  599.000000  599.000000  599.000000  599.000000  599.000000  599.000000   \n",
              "mean    20.147346   87.704508  171.168614   40.631886    0.285476   49.502504   \n",
              "std     18.144753   18.412257    9.502857    3.969171    0.452018   12.349546   \n",
              "min      0.000000   45.000000  144.000000   30.000000    0.000000   20.000000   \n",
              "25%      6.400000   75.000000  165.000000   38.000000    0.000000   40.000000   \n",
              "50%     14.300000   86.000000  171.000000   41.000000    0.000000   49.000000   \n",
              "75%     30.000000   98.000000  178.000000   43.000000    1.000000   59.000000   \n",
              "max    108.400000  165.000000  197.000000   53.000000    1.000000   88.000000   \n",
              "\n",
              "              BMI  \n",
              "count  599.000000  \n",
              "mean    29.891201  \n",
              "std      5.630683  \n",
              "min     18.590125  \n",
              "25%     26.070325  \n",
              "50%     28.734672  \n",
              "75%     32.770513  \n",
              "max     63.654952  "
            ],
            "text/html": [
              "\n",
              "  <div id=\"df-830f6ddb-74af-4bb6-835e-009313d176ea\">\n",
              "    <div class=\"colab-df-container\">\n",
              "      <div>\n",
              "<style scoped>\n",
              "    .dataframe tbody tr th:only-of-type {\n",
              "        vertical-align: middle;\n",
              "    }\n",
              "\n",
              "    .dataframe tbody tr th {\n",
              "        vertical-align: top;\n",
              "    }\n",
              "\n",
              "    .dataframe thead th {\n",
              "        text-align: right;\n",
              "    }\n",
              "</style>\n",
              "<table border=\"1\" class=\"dataframe\">\n",
              "  <thead>\n",
              "    <tr style=\"text-align: right;\">\n",
              "      <th></th>\n",
              "      <th>IAH</th>\n",
              "      <th>Weight</th>\n",
              "      <th>Height</th>\n",
              "      <th>Cervical</th>\n",
              "      <th>Gender</th>\n",
              "      <th>Age</th>\n",
              "      <th>BMI</th>\n",
              "    </tr>\n",
              "  </thead>\n",
              "  <tbody>\n",
              "    <tr>\n",
              "      <th>count</th>\n",
              "      <td>599.000000</td>\n",
              "      <td>599.000000</td>\n",
              "      <td>599.000000</td>\n",
              "      <td>599.000000</td>\n",
              "      <td>599.000000</td>\n",
              "      <td>599.000000</td>\n",
              "      <td>599.000000</td>\n",
              "    </tr>\n",
              "    <tr>\n",
              "      <th>mean</th>\n",
              "      <td>20.147346</td>\n",
              "      <td>87.704508</td>\n",
              "      <td>171.168614</td>\n",
              "      <td>40.631886</td>\n",
              "      <td>0.285476</td>\n",
              "      <td>49.502504</td>\n",
              "      <td>29.891201</td>\n",
              "    </tr>\n",
              "    <tr>\n",
              "      <th>std</th>\n",
              "      <td>18.144753</td>\n",
              "      <td>18.412257</td>\n",
              "      <td>9.502857</td>\n",
              "      <td>3.969171</td>\n",
              "      <td>0.452018</td>\n",
              "      <td>12.349546</td>\n",
              "      <td>5.630683</td>\n",
              "    </tr>\n",
              "    <tr>\n",
              "      <th>min</th>\n",
              "      <td>0.000000</td>\n",
              "      <td>45.000000</td>\n",
              "      <td>144.000000</td>\n",
              "      <td>30.000000</td>\n",
              "      <td>0.000000</td>\n",
              "      <td>20.000000</td>\n",
              "      <td>18.590125</td>\n",
              "    </tr>\n",
              "    <tr>\n",
              "      <th>25%</th>\n",
              "      <td>6.400000</td>\n",
              "      <td>75.000000</td>\n",
              "      <td>165.000000</td>\n",
              "      <td>38.000000</td>\n",
              "      <td>0.000000</td>\n",
              "      <td>40.000000</td>\n",
              "      <td>26.070325</td>\n",
              "    </tr>\n",
              "    <tr>\n",
              "      <th>50%</th>\n",
              "      <td>14.300000</td>\n",
              "      <td>86.000000</td>\n",
              "      <td>171.000000</td>\n",
              "      <td>41.000000</td>\n",
              "      <td>0.000000</td>\n",
              "      <td>49.000000</td>\n",
              "      <td>28.734672</td>\n",
              "    </tr>\n",
              "    <tr>\n",
              "      <th>75%</th>\n",
              "      <td>30.000000</td>\n",
              "      <td>98.000000</td>\n",
              "      <td>178.000000</td>\n",
              "      <td>43.000000</td>\n",
              "      <td>1.000000</td>\n",
              "      <td>59.000000</td>\n",
              "      <td>32.770513</td>\n",
              "    </tr>\n",
              "    <tr>\n",
              "      <th>max</th>\n",
              "      <td>108.400000</td>\n",
              "      <td>165.000000</td>\n",
              "      <td>197.000000</td>\n",
              "      <td>53.000000</td>\n",
              "      <td>1.000000</td>\n",
              "      <td>88.000000</td>\n",
              "      <td>63.654952</td>\n",
              "    </tr>\n",
              "  </tbody>\n",
              "</table>\n",
              "</div>\n",
              "      <button class=\"colab-df-convert\" onclick=\"convertToInteractive('df-830f6ddb-74af-4bb6-835e-009313d176ea')\"\n",
              "              title=\"Convert this dataframe to an interactive table.\"\n",
              "              style=\"display:none;\">\n",
              "        \n",
              "  <svg xmlns=\"http://www.w3.org/2000/svg\" height=\"24px\"viewBox=\"0 0 24 24\"\n",
              "       width=\"24px\">\n",
              "    <path d=\"M0 0h24v24H0V0z\" fill=\"none\"/>\n",
              "    <path d=\"M18.56 5.44l.94 2.06.94-2.06 2.06-.94-2.06-.94-.94-2.06-.94 2.06-2.06.94zm-11 1L8.5 8.5l.94-2.06 2.06-.94-2.06-.94L8.5 2.5l-.94 2.06-2.06.94zm10 10l.94 2.06.94-2.06 2.06-.94-2.06-.94-.94-2.06-.94 2.06-2.06.94z\"/><path d=\"M17.41 7.96l-1.37-1.37c-.4-.4-.92-.59-1.43-.59-.52 0-1.04.2-1.43.59L10.3 9.45l-7.72 7.72c-.78.78-.78 2.05 0 2.83L4 21.41c.39.39.9.59 1.41.59.51 0 1.02-.2 1.41-.59l7.78-7.78 2.81-2.81c.8-.78.8-2.07 0-2.86zM5.41 20L4 18.59l7.72-7.72 1.47 1.35L5.41 20z\"/>\n",
              "  </svg>\n",
              "      </button>\n",
              "      \n",
              "  <style>\n",
              "    .colab-df-container {\n",
              "      display:flex;\n",
              "      flex-wrap:wrap;\n",
              "      gap: 12px;\n",
              "    }\n",
              "\n",
              "    .colab-df-convert {\n",
              "      background-color: #E8F0FE;\n",
              "      border: none;\n",
              "      border-radius: 50%;\n",
              "      cursor: pointer;\n",
              "      display: none;\n",
              "      fill: #1967D2;\n",
              "      height: 32px;\n",
              "      padding: 0 0 0 0;\n",
              "      width: 32px;\n",
              "    }\n",
              "\n",
              "    .colab-df-convert:hover {\n",
              "      background-color: #E2EBFA;\n",
              "      box-shadow: 0px 1px 2px rgba(60, 64, 67, 0.3), 0px 1px 3px 1px rgba(60, 64, 67, 0.15);\n",
              "      fill: #174EA6;\n",
              "    }\n",
              "\n",
              "    [theme=dark] .colab-df-convert {\n",
              "      background-color: #3B4455;\n",
              "      fill: #D2E3FC;\n",
              "    }\n",
              "\n",
              "    [theme=dark] .colab-df-convert:hover {\n",
              "      background-color: #434B5C;\n",
              "      box-shadow: 0px 1px 3px 1px rgba(0, 0, 0, 0.15);\n",
              "      filter: drop-shadow(0px 1px 2px rgba(0, 0, 0, 0.3));\n",
              "      fill: #FFFFFF;\n",
              "    }\n",
              "  </style>\n",
              "\n",
              "      <script>\n",
              "        const buttonEl =\n",
              "          document.querySelector('#df-830f6ddb-74af-4bb6-835e-009313d176ea button.colab-df-convert');\n",
              "        buttonEl.style.display =\n",
              "          google.colab.kernel.accessAllowed ? 'block' : 'none';\n",
              "\n",
              "        async function convertToInteractive(key) {\n",
              "          const element = document.querySelector('#df-830f6ddb-74af-4bb6-835e-009313d176ea');\n",
              "          const dataTable =\n",
              "            await google.colab.kernel.invokeFunction('convertToInteractive',\n",
              "                                                     [key], {});\n",
              "          if (!dataTable) return;\n",
              "\n",
              "          const docLinkHtml = 'Like what you see? Visit the ' +\n",
              "            '<a target=\"_blank\" href=https://colab.research.google.com/notebooks/data_table.ipynb>data table notebook</a>'\n",
              "            + ' to learn more about interactive tables.';\n",
              "          element.innerHTML = '';\n",
              "          dataTable['output_type'] = 'display_data';\n",
              "          await google.colab.output.renderOutput(dataTable, element);\n",
              "          const docLink = document.createElement('div');\n",
              "          docLink.innerHTML = docLinkHtml;\n",
              "          element.appendChild(docLink);\n",
              "        }\n",
              "      </script>\n",
              "    </div>\n",
              "  </div>\n",
              "  "
            ]
          },
          "metadata": {},
          "execution_count": 5
        }
      ]
    },
    {
      "cell_type": "markdown",
      "metadata": {
        "id": "TlWuZ7CwDFGZ"
      },
      "source": [
        "# Prepare X and y for train and test\n"
      ]
    },
    {
      "cell_type": "code",
      "metadata": {
        "id": "oG57Qvw6C56L",
        "colab": {
          "base_uri": "https://localhost:8080/"
        },
        "outputId": "bc09eb77-d580-432e-f52d-91a73390f94c"
      },
      "source": [
        "import numpy as np\n",
        "\n",
        "features = ['Weight', 'Height', 'Cervical', 'BMI', 'Age']\n",
        "\n",
        "X = np.array(OSA_df[features])\n",
        "\n",
        "y = np.array(OSA_df['IAH'])\n",
        "\n",
        "print('X shape:', X.shape, 'y shape: ', y.shape)"
      ],
      "execution_count": 6,
      "outputs": [
        {
          "output_type": "stream",
          "name": "stdout",
          "text": [
            "X shape: (599, 5) y shape:  (599,)\n"
          ]
        }
      ]
    },
    {
      "cell_type": "markdown",
      "metadata": {
        "id": "DexjQ13eEYhp"
      },
      "source": [
        "### Train and test data splitting"
      ]
    },
    {
      "cell_type": "code",
      "metadata": {
        "id": "AdOGKJytEXXJ",
        "outputId": "93cb50a9-f6f0-485f-d0fb-656b27cc8212",
        "colab": {
          "base_uri": "https://localhost:8080/"
        }
      },
      "source": [
        "from sklearn.model_selection import train_test_split\n",
        "\n",
        "## Example: Train 80% and Test 20%\n",
        "\n",
        "X_train, X_test, y_train, y_test = train_test_split(X, y, test_size=0.2, random_state=42)\n",
        "\n",
        "# Print the shapes of both sets.\n",
        "print(X_train.shape)\n",
        "print(X_test.shape)"
      ],
      "execution_count": 7,
      "outputs": [
        {
          "output_type": "stream",
          "name": "stdout",
          "text": [
            "(479, 5)\n",
            "(120, 5)\n"
          ]
        }
      ]
    },
    {
      "cell_type": "markdown",
      "source": [
        "# Training"
      ],
      "metadata": {
        "id": "yYAllx-e8fxo"
      }
    },
    {
      "cell_type": "code",
      "metadata": {
        "id": "rYvIpLIhCbTT"
      },
      "source": [
        "# Fitting a linear regression\n",
        "\n",
        "# Import the linear models.\n",
        "from sklearn import linear_model\n",
        "\n",
        "# Initialize the model class.\n",
        "\n",
        "model= linear_model.LinearRegression()\n",
        "\n",
        "#model= linear_model.Ridge(alpha = 0.5)\n",
        "# Fit the model to the training data.\n",
        "Trained_model=model.fit(X_train, y_train)\n"
      ],
      "execution_count": 8,
      "outputs": []
    },
    {
      "cell_type": "markdown",
      "metadata": {
        "id": "x0Vx1rl5FODZ"
      },
      "source": [
        "## Test"
      ]
    },
    {
      "cell_type": "code",
      "metadata": {
        "id": "VaJTs-SQFODd",
        "outputId": "aa863519-fb0a-4938-85ae-5eca6b3f649d",
        "colab": {
          "base_uri": "https://localhost:8080/"
        }
      },
      "source": [
        "### Predicting Error\n",
        "\n",
        "# Import the scikit-learn function to compute error.\n",
        "from sklearn.metrics import mean_squared_error, mean_absolute_error, r2_score\n",
        "\n",
        "# Generate our predictions for the test set.\n",
        "predictions = Trained_model.predict(X_test)\n",
        "\n",
        "# Compute error between our test predictions and the actual values.\n",
        "MSE=mean_squared_error(predictions, y_test)\n",
        "\n",
        "MAE=mean_absolute_error(predictions, y_test)\n",
        "\n",
        "Rsquared = r2_score(y_test, predictions)\n",
        "\n",
        "print('Mean squared Error: ', MSE,\n",
        "      '\\nMean Absolute Error: ', MAE,\n",
        "      '\\nR-squared', Rsquared)"
      ],
      "execution_count": 9,
      "outputs": [
        {
          "output_type": "stream",
          "name": "stdout",
          "text": [
            "Mean squared Error:  227.40730468975048 \n",
            "Mean Absolute Error:  11.106385068724016 \n",
            "R-squared 0.21391525526091848\n"
          ]
        }
      ]
    },
    {
      "cell_type": "code",
      "source": [
        "import matplotlib.pyplot as plt\n",
        "%matplotlib inline\n",
        "\n",
        "plt.subplot(121)\n",
        "plt.hist(y_train)\n",
        "\n",
        "plt.subplot(122)\n",
        "plt.hist(np.log1p(y_train))"
      ],
      "metadata": {
        "colab": {
          "base_uri": "https://localhost:8080/",
          "height": 355
        },
        "id": "ScpAU2PL_1k5",
        "outputId": "3fca08a0-0514-4c73-9175-4290d11c8999"
      },
      "execution_count": 10,
      "outputs": [
        {
          "output_type": "execute_result",
          "data": {
            "text/plain": [
              "(array([29., 10., 30., 37., 61., 83., 77., 92., 49., 11.]),\n",
              " array([0.        , 0.46950109, 0.93900218, 1.40850327, 1.87800436,\n",
              "        2.34750544, 2.81700653, 3.28650762, 3.75600871, 4.2255098 ,\n",
              "        4.69501089]),\n",
              " <a list of 10 Patch objects>)"
            ]
          },
          "metadata": {},
          "execution_count": 10
        },
        {
          "output_type": "display_data",
          "data": {
            "text/plain": [
              "<Figure size 432x288 with 2 Axes>"
            ],
            "image/png": "[encoded data removed]"
          },
          "metadata": {
            "needs_background": "light"
          }
        }
      ]
    },
    {
      "cell_type": "code",
      "source": [
        "y_log_train = np.log1p(y_train)\n",
        "y_log_test = np.log1p(y_test)\n",
        "\n",
        "model= linear_model.LinearRegression()\n",
        "\n",
        "#model= linear_model.Ridge(alpha = 0.5)\n",
        "# Fit the model to the training data.\n",
        "Log_Trained_model=model.fit(X_train, y_log_train)\n",
        "\n",
        "# Generate our predictions for the test set.\n",
        "predictions_log = Log_Trained_model.predict(X_test)\n",
        "\n",
        "# Compute error between our test predictions and the actual values.\n",
        "MSE=mean_squared_error(predictions_log, y_log_test)\n",
        "\n",
        "MAE=mean_absolute_error(predictions_log, y_log_test)\n",
        "\n",
        "Rsquared = r2_score(y_log_test, predictions_log)\n",
        "\n",
        "print('Mean squared Error: ', MSE,\n",
        "      '\\nMean Absolute Error: ', MAE,\n",
        "      '\\nR-squared', Rsquared)"
      ],
      "metadata": {
        "colab": {
          "base_uri": "https://localhost:8080/"
        },
        "id": "dMvfN2v0_aix",
        "outputId": "8f745a73-5c7e-4d95-dacd-d3f49acc5f1f"
      },
      "execution_count": 11,
      "outputs": [
        {
          "output_type": "stream",
          "name": "stdout",
          "text": [
            "Mean squared Error:  0.6538322015647593 \n",
            "Mean Absolute Error:  0.636271433506446 \n",
            "R-squared 0.1461604958526329\n"
          ]
        }
      ]
    },
    {
      "cell_type": "code",
      "source": [
        "# Compute error between our test predictions and the actual values.\n",
        "INV_MSE=mean_squared_error(np.expm1(predictions_log), y_test)\n",
        "\n",
        "INV_MAE=mean_absolute_error(np.expm1(predictions_log), y_test)\n",
        "\n",
        "INV_Rsquared = r2_score(y_test, np.expm1(predictions_log))\n",
        "\n",
        "print('INV Mean squared Error: ', INV_MSE,\n",
        "      '\\nINV Mean Absolute Error: ', INV_MAE,\n",
        "      '\\nINV R-squared', INV_Rsquared)"
      ],
      "metadata": {
        "colab": {
          "base_uri": "https://localhost:8080/"
        },
        "id": "imrwjFJJCDBS",
        "outputId": "b332dab9-2465-4f77-a653-01b2812f073e"
      },
      "execution_count": 12,
      "outputs": [
        {
          "output_type": "stream",
          "name": "stdout",
          "text": [
            "INV Mean squared Error:  243.64100121652615 \n",
            "INV Mean Absolute Error:  10.5228449927134 \n",
            "INV R-squared 0.15779981425592537\n"
          ]
        }
      ]
    },
    {
      "cell_type": "markdown",
      "source": [
        "## Not try with: Poisson Regression\n",
        "[Sklearn Poisson Regression](https://scikit-learn.org/stable/modules/generated/sklearn.linear_model.PoissonRegressor.html\n",
        ")"
      ],
      "metadata": {
        "id": "ekO4sUc52wfR"
      }
    },
    {
      "cell_type": "code",
      "source": [
        "modelPoisson = linear_model.PoissonRegressor()\n",
        "\n",
        "# Fit the model to the training data.\n",
        "Poisson_Trained_model=modelPoisson.fit(X_train, y_train)\n",
        "\n",
        "# Generate our predictions for the test set.\n",
        "predictions_Poisson = Poisson_Trained_model.predict(X_test)\n",
        "\n",
        "# Compute error between our test predictions and the actual values.\n",
        "MSE=mean_squared_error(predictions_Poisson, y_test)\n",
        "\n",
        "MAE=mean_absolute_error(predictions_Poisson, y_test)\n",
        "\n",
        "\n",
        "# Although it can be calculated, we do not have an R^2 in GLM !!!\n",
        "# Rsquared = r2_score(y_test, predictions_Poisson)\n",
        "\n",
        "# in GLM we use the Deviance to compare models\n",
        "Deviance = Poisson_Trained_model.score(X_test, y_test)\n",
        "\n",
        "print('Poisson Regression Results-----',\n",
        "      '\\nMean squared Error: ', MSE,\n",
        "      '\\nMean Absolute Error: ', MAE,\n",
        "      '\\nDeviance', Deviance)"
      ],
      "metadata": {
        "colab": {
          "base_uri": "https://localhost:8080/"
        },
        "id": "Ou-hzYMY3IV2",
        "outputId": "26fe3749-8e97-4298-a978-b36d2bb3a4a3"
      },
      "execution_count": 18,
      "outputs": [
        {
          "output_type": "stream",
          "name": "stdout",
          "text": [
            "Poisson Regression Results----- \n",
            "Mean squared Error:  221.4919969220596 \n",
            "Mean Absolute Error:  10.983883125324827 \n",
            "Deviance 0.23103663986510992\n"
          ]
        }
      ]
    },
    {
      "cell_type": "markdown",
      "source": [
        "Some ideas:\n",
        "\n",
        "\n",
        "* The deviance generalizes the Residual Sum of Squares (RSS) of the linear model. The generalization is driven by the likelihood and its equivalence with the RSS in the linear model\n",
        "\n",
        "* R^2 (also MSE, MAE) in GLM has a different interpretation than in linear regression.\n",
        " - R^2 is not the percentage of variance explained by the model, but (as MSE, MAE) are measurements on how close predictions fit true values.\n",
        " - R^2 in GLM is not related to any correlation coefficient.\n"
      ],
      "metadata": {
        "id": "xzAUzxLNHffE"
      }
    }
  ]
}